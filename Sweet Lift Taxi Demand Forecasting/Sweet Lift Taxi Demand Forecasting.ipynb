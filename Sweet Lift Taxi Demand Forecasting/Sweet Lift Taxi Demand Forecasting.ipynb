{
 "cells": [
  {
   "cell_type": "markdown",
   "metadata": {},
   "source": [
    "# Project description\n",
    "\n",
    "Sweet Lift Taxi company has collected historical data on taxi orders at airports. To attract more drivers during peak hours, we need to predict the amount of taxi orders for the next hour. Build a model for such a prediction.\n",
    "\n",
    "The RMSE metric on the test set should not be more than 48.\n",
    "\n",
    "## Project instructions\n",
    "\n",
    "1. Download the data and resample it by one hour.\n",
    "2. Analyze the data.\n",
    "3. Train different models with different hyperparameters. The test sample should be 10% of the initial dataset. \n",
    "4. Test the data using the test sample and provide a conclusion.\n",
    "\n",
    "## Data description\n",
    "\n",
    "The data is stored in file `taxi.csv`. The number of orders is in the '*num_orders*' column."
   ]
  },
  {
   "cell_type": "markdown",
   "metadata": {},
   "source": [
    "## Preparation"
   ]
  },
  {
   "cell_type": "code",
   "execution_count": 1,
   "metadata": {},
   "outputs": [],
   "source": [
    "# Importing necessary libraries\n",
    "import pandas as pd\n",
    "import numpy as np\n",
    "from matplotlib import pyplot as plt\n",
    "from statsmodels.tsa.seasonal import seasonal_decompose\n",
    "from sklearn.model_selection import train_test_split, cross_val_score, TimeSeriesSplit\n",
    "from sklearn.metrics import make_scorer, mean_squared_error\n",
    "from sklearn.ensemble import RandomForestRegressor\n",
    "from sklearn.linear_model import LinearRegression\n",
    "from sklearn.tree import DecisionTreeRegressor"
   ]
  },
  {
   "cell_type": "code",
   "execution_count": 2,
   "metadata": {},
   "outputs": [],
   "source": [
    "# Reading in data\n",
    "taxi = pd.read_csv('/datasets/taxi.csv', index_col=[0], parse_dates=[0])"
   ]
  },
  {
   "cell_type": "code",
   "execution_count": 3,
   "metadata": {},
   "outputs": [
    {
     "data": {
      "text/html": [
       "<div>\n",
       "<style scoped>\n",
       "    .dataframe tbody tr th:only-of-type {\n",
       "        vertical-align: middle;\n",
       "    }\n",
       "\n",
       "    .dataframe tbody tr th {\n",
       "        vertical-align: top;\n",
       "    }\n",
       "\n",
       "    .dataframe thead th {\n",
       "        text-align: right;\n",
       "    }\n",
       "</style>\n",
       "<table border=\"1\" class=\"dataframe\">\n",
       "  <thead>\n",
       "    <tr style=\"text-align: right;\">\n",
       "      <th></th>\n",
       "      <th>num_orders</th>\n",
       "    </tr>\n",
       "    <tr>\n",
       "      <th>datetime</th>\n",
       "      <th></th>\n",
       "    </tr>\n",
       "  </thead>\n",
       "  <tbody>\n",
       "    <tr>\n",
       "      <th>2018-03-01 00:00:00</th>\n",
       "      <td>9</td>\n",
       "    </tr>\n",
       "    <tr>\n",
       "      <th>2018-03-01 00:10:00</th>\n",
       "      <td>14</td>\n",
       "    </tr>\n",
       "    <tr>\n",
       "      <th>2018-03-01 00:20:00</th>\n",
       "      <td>28</td>\n",
       "    </tr>\n",
       "    <tr>\n",
       "      <th>2018-03-01 00:30:00</th>\n",
       "      <td>20</td>\n",
       "    </tr>\n",
       "    <tr>\n",
       "      <th>2018-03-01 00:40:00</th>\n",
       "      <td>32</td>\n",
       "    </tr>\n",
       "  </tbody>\n",
       "</table>\n",
       "</div>"
      ],
      "text/plain": [
       "                     num_orders\n",
       "datetime                       \n",
       "2018-03-01 00:00:00           9\n",
       "2018-03-01 00:10:00          14\n",
       "2018-03-01 00:20:00          28\n",
       "2018-03-01 00:30:00          20\n",
       "2018-03-01 00:40:00          32"
      ]
     },
     "execution_count": 3,
     "metadata": {},
     "output_type": "execute_result"
    }
   ],
   "source": [
    "# Checking head of data\n",
    "taxi.head()"
   ]
  },
  {
   "cell_type": "markdown",
   "metadata": {},
   "source": [
    "I need to resample the taxi order data by the hour. First, I will make sure that the data is in order and clean."
   ]
  },
  {
   "cell_type": "code",
   "execution_count": 4,
   "metadata": {},
   "outputs": [
    {
     "data": {
      "text/plain": [
       "True"
      ]
     },
     "execution_count": 4,
     "metadata": {},
     "output_type": "execute_result"
    }
   ],
   "source": [
    "# Making sure that the index is in the correct chronological order\n",
    "taxi.index.is_monotonic"
   ]
  },
  {
   "cell_type": "code",
   "execution_count": 5,
   "metadata": {},
   "outputs": [
    {
     "name": "stdout",
     "output_type": "stream",
     "text": [
      "<class 'pandas.core.frame.DataFrame'>\n",
      "DatetimeIndex: 26496 entries, 2018-03-01 00:00:00 to 2018-08-31 23:50:00\n",
      "Data columns (total 1 columns):\n",
      " #   Column      Non-Null Count  Dtype\n",
      "---  ------      --------------  -----\n",
      " 0   num_orders  26496 non-null  int64\n",
      "dtypes: int64(1)\n",
      "memory usage: 414.0 KB\n"
     ]
    }
   ],
   "source": [
    "# Checking info\n",
    "taxi.info()"
   ]
  },
  {
   "cell_type": "markdown",
   "metadata": {},
   "source": [
    "Looks like there's no missing data."
   ]
  },
  {
   "cell_type": "code",
   "execution_count": 6,
   "metadata": {},
   "outputs": [
    {
     "data": {
      "text/plain": [
       "0"
      ]
     },
     "execution_count": 6,
     "metadata": {},
     "output_type": "execute_result"
    }
   ],
   "source": [
    "# Checking for duplicates\n",
    "taxi.index.duplicated().sum()"
   ]
  },
  {
   "cell_type": "code",
   "execution_count": 7,
   "metadata": {},
   "outputs": [],
   "source": [
    "# Resampling data by one hour\n",
    "taxi = taxi.resample('1H').sum()"
   ]
  },
  {
   "cell_type": "markdown",
   "metadata": {},
   "source": [
    "The data seems to be clean and I've resampled it by one hour. Now it's ready for analysis."
   ]
  },
  {
   "cell_type": "markdown",
   "metadata": {},
   "source": [
    "## Analysis"
   ]
  },
  {
   "cell_type": "markdown",
   "metadata": {},
   "source": [
    "Before training my models I will make a few plots and try to understand the data."
   ]
  },
  {
   "cell_type": "code",
   "execution_count": 8,
   "metadata": {},
   "outputs": [],
   "source": [
    "# Decomposing taxi data\n",
    "taxi_decomposed = seasonal_decompose(taxi)"
   ]
  },
  {
   "cell_type": "code",
   "execution_count": 9,
   "metadata": {},
   "outputs": [],
   "source": [
    "# Adding a rolling mean feature\n",
    "taxi['rolling_mean'] = taxi['num_orders'].shift().rolling(15).mean()"
   ]
  },
  {
   "cell_type": "code",
   "execution_count": 10,
   "metadata": {},
   "outputs": [],
   "source": [
    "# Adding a rolling standard deviation feature\n",
    "taxi['rolling_std'] = taxi['num_orders'].shift().rolling(15).std()"
   ]
  },
  {
   "cell_type": "code",
   "execution_count": 11,
   "metadata": {},
   "outputs": [
    {
     "data": {
      "image/png": "[encoded data removed]",
      "text/plain": [
       "<Figure size 640x480 with 1 Axes>"
      ]
     },
     "metadata": {},
     "output_type": "display_data"
    }
   ],
   "source": [
    "# Plotting the full DataFrame\n",
    "plt.plot(taxi)\n",
    "plt.title('Taxi Orders')\n",
    "plt.legend(['Total Orders', 'Rolling Average', 'Rolling Standard Deviation'])\n",
    "plt.xlabel('Date and Time')\n",
    "plt.ylabel('Number of Orders')\n",
    "plt.show()"
   ]
  },
  {
   "cell_type": "markdown",
   "metadata": {},
   "source": [
    "Looks like the number of orders increases over time with some pretty significant spikes. "
   ]
  },
  {
   "cell_type": "code",
   "execution_count": 12,
   "metadata": {},
   "outputs": [
    {
     "data": {
      "image/png": "[encoded data removed]",
      "text/plain": [
       "<Figure size 640x480 with 1 Axes>"
      ]
     },
     "metadata": {},
     "output_type": "display_data"
    }
   ],
   "source": [
    "# Plotting a histogram of orders\n",
    "plt.hist(taxi['num_orders'], bins=25, edgecolor='black')\n",
    "plt.xlabel('Number of Orders')\n",
    "plt.ylabel('Frequency')\n",
    "plt.title('Histogram of Taxi Orders')\n",
    "plt.show()"
   ]
  },
  {
   "cell_type": "markdown",
   "metadata": {},
   "source": [
    "Seems like the distribution peaks between around 60-100 orders per hour with most hours having less than about 150 orders. We can also see the outliers identified in the previous plot."
   ]
  },
  {
   "cell_type": "code",
   "execution_count": 13,
   "metadata": {},
   "outputs": [
    {
     "data": {
      "image/png": "[encoded data removed]",
      "text/plain": [
       "<Figure size 640x480 with 1 Axes>"
      ]
     },
     "metadata": {},
     "output_type": "display_data"
    }
   ],
   "source": [
    "# Plotting seasonality\n",
    "plt.plot(taxi_decomposed.seasonal['2018-03':'2018-03-03'])\n",
    "plt.xticks(rotation=45)\n",
    "plt.title('Seasonality')\n",
    "plt.show()"
   ]
  },
  {
   "cell_type": "markdown",
   "metadata": {},
   "source": [
    "Seems like there is a daily pattern in the data."
   ]
  },
  {
   "cell_type": "code",
   "execution_count": 14,
   "metadata": {},
   "outputs": [
    {
     "data": {
      "image/png": "[encoded data removed]",
      "text/plain": [
       "<Figure size 640x480 with 1 Axes>"
      ]
     },
     "metadata": {},
     "output_type": "display_data"
    }
   ],
   "source": [
    "# Plotting trend\n",
    "plt.plot(taxi_decomposed.trend)\n",
    "plt.title('Trend')\n",
    "plt.show()"
   ]
  },
  {
   "cell_type": "markdown",
   "metadata": {},
   "source": [
    "There is a noticeable trend upwards in the data that can be identified by the increasing mean in the plot of full dataset."
   ]
  },
  {
   "cell_type": "code",
   "execution_count": 15,
   "metadata": {},
   "outputs": [
    {
     "data": {
      "image/png": "[encoded data removed]",
      "text/plain": [
       "<Figure size 640x480 with 1 Axes>"
      ]
     },
     "metadata": {},
     "output_type": "display_data"
    }
   ],
   "source": [
    "# Plotting Residuals\n",
    "plt.plot(taxi_decomposed.resid)\n",
    "plt.title('Residuals')\n",
    "plt.show()"
   ]
  },
  {
   "cell_type": "markdown",
   "metadata": {},
   "source": [
    "There's also a lot of variability in the data from one hour to the next."
   ]
  },
  {
   "cell_type": "markdown",
   "metadata": {},
   "source": [
    "## Training"
   ]
  },
  {
   "cell_type": "markdown",
   "metadata": {},
   "source": [
    "I'm  going to train a Linear Regression, Random Forest Regressor and a Decision Tree Regressor to predict the number of orders in the next hour. I will evaluate the results using RMSE (Root Mean Squared Error). I will use cross validation for each model."
   ]
  },
  {
   "cell_type": "code",
   "execution_count": 16,
   "metadata": {},
   "outputs": [],
   "source": [
    "# Defining a function to add useful features to the dataset\n",
    "def make_features(data, max_lag):\n",
    "    data['year'] = data.index.year\n",
    "    data['month'] = data.index.month\n",
    "    data['day'] = data.index.day\n",
    "    data['hour'] = data.index.hour\n",
    "\n",
    "    for lag in range(1, max_lag + 1):\n",
    "        data['lag_{}'.format(lag)] = data['num_orders'].shift(lag)"
   ]
  },
  {
   "cell_type": "code",
   "execution_count": 17,
   "metadata": {},
   "outputs": [],
   "source": [
    "# Adding features to the dataset\n",
    "make_features(taxi, 6)"
   ]
  },
  {
   "cell_type": "code",
   "execution_count": 18,
   "metadata": {},
   "outputs": [
    {
     "data": {
      "text/html": [
       "<div>\n",
       "<style scoped>\n",
       "    .dataframe tbody tr th:only-of-type {\n",
       "        vertical-align: middle;\n",
       "    }\n",
       "\n",
       "    .dataframe tbody tr th {\n",
       "        vertical-align: top;\n",
       "    }\n",
       "\n",
       "    .dataframe thead th {\n",
       "        text-align: right;\n",
       "    }\n",
       "</style>\n",
       "<table border=\"1\" class=\"dataframe\">\n",
       "  <thead>\n",
       "    <tr style=\"text-align: right;\">\n",
       "      <th></th>\n",
       "      <th>num_orders</th>\n",
       "      <th>rolling_mean</th>\n",
       "      <th>rolling_std</th>\n",
       "      <th>year</th>\n",
       "      <th>month</th>\n",
       "      <th>day</th>\n",
       "      <th>hour</th>\n",
       "      <th>lag_1</th>\n",
       "      <th>lag_2</th>\n",
       "      <th>lag_3</th>\n",
       "      <th>lag_4</th>\n",
       "      <th>lag_5</th>\n",
       "      <th>lag_6</th>\n",
       "    </tr>\n",
       "    <tr>\n",
       "      <th>datetime</th>\n",
       "      <th></th>\n",
       "      <th></th>\n",
       "      <th></th>\n",
       "      <th></th>\n",
       "      <th></th>\n",
       "      <th></th>\n",
       "      <th></th>\n",
       "      <th></th>\n",
       "      <th></th>\n",
       "      <th></th>\n",
       "      <th></th>\n",
       "      <th></th>\n",
       "      <th></th>\n",
       "    </tr>\n",
       "  </thead>\n",
       "  <tbody>\n",
       "    <tr>\n",
       "      <th>2018-03-01 00:00:00</th>\n",
       "      <td>124</td>\n",
       "      <td>NaN</td>\n",
       "      <td>NaN</td>\n",
       "      <td>2018</td>\n",
       "      <td>3</td>\n",
       "      <td>1</td>\n",
       "      <td>0</td>\n",
       "      <td>NaN</td>\n",
       "      <td>NaN</td>\n",
       "      <td>NaN</td>\n",
       "      <td>NaN</td>\n",
       "      <td>NaN</td>\n",
       "      <td>NaN</td>\n",
       "    </tr>\n",
       "    <tr>\n",
       "      <th>2018-03-01 01:00:00</th>\n",
       "      <td>85</td>\n",
       "      <td>NaN</td>\n",
       "      <td>NaN</td>\n",
       "      <td>2018</td>\n",
       "      <td>3</td>\n",
       "      <td>1</td>\n",
       "      <td>1</td>\n",
       "      <td>124.0</td>\n",
       "      <td>NaN</td>\n",
       "      <td>NaN</td>\n",
       "      <td>NaN</td>\n",
       "      <td>NaN</td>\n",
       "      <td>NaN</td>\n",
       "    </tr>\n",
       "    <tr>\n",
       "      <th>2018-03-01 02:00:00</th>\n",
       "      <td>71</td>\n",
       "      <td>NaN</td>\n",
       "      <td>NaN</td>\n",
       "      <td>2018</td>\n",
       "      <td>3</td>\n",
       "      <td>1</td>\n",
       "      <td>2</td>\n",
       "      <td>85.0</td>\n",
       "      <td>124.0</td>\n",
       "      <td>NaN</td>\n",
       "      <td>NaN</td>\n",
       "      <td>NaN</td>\n",
       "      <td>NaN</td>\n",
       "    </tr>\n",
       "    <tr>\n",
       "      <th>2018-03-01 03:00:00</th>\n",
       "      <td>66</td>\n",
       "      <td>NaN</td>\n",
       "      <td>NaN</td>\n",
       "      <td>2018</td>\n",
       "      <td>3</td>\n",
       "      <td>1</td>\n",
       "      <td>3</td>\n",
       "      <td>71.0</td>\n",
       "      <td>85.0</td>\n",
       "      <td>124.0</td>\n",
       "      <td>NaN</td>\n",
       "      <td>NaN</td>\n",
       "      <td>NaN</td>\n",
       "    </tr>\n",
       "    <tr>\n",
       "      <th>2018-03-01 04:00:00</th>\n",
       "      <td>43</td>\n",
       "      <td>NaN</td>\n",
       "      <td>NaN</td>\n",
       "      <td>2018</td>\n",
       "      <td>3</td>\n",
       "      <td>1</td>\n",
       "      <td>4</td>\n",
       "      <td>66.0</td>\n",
       "      <td>71.0</td>\n",
       "      <td>85.0</td>\n",
       "      <td>124.0</td>\n",
       "      <td>NaN</td>\n",
       "      <td>NaN</td>\n",
       "    </tr>\n",
       "    <tr>\n",
       "      <th>2018-03-01 05:00:00</th>\n",
       "      <td>6</td>\n",
       "      <td>NaN</td>\n",
       "      <td>NaN</td>\n",
       "      <td>2018</td>\n",
       "      <td>3</td>\n",
       "      <td>1</td>\n",
       "      <td>5</td>\n",
       "      <td>43.0</td>\n",
       "      <td>66.0</td>\n",
       "      <td>71.0</td>\n",
       "      <td>85.0</td>\n",
       "      <td>124.0</td>\n",
       "      <td>NaN</td>\n",
       "    </tr>\n",
       "    <tr>\n",
       "      <th>2018-03-01 06:00:00</th>\n",
       "      <td>12</td>\n",
       "      <td>NaN</td>\n",
       "      <td>NaN</td>\n",
       "      <td>2018</td>\n",
       "      <td>3</td>\n",
       "      <td>1</td>\n",
       "      <td>6</td>\n",
       "      <td>6.0</td>\n",
       "      <td>43.0</td>\n",
       "      <td>66.0</td>\n",
       "      <td>71.0</td>\n",
       "      <td>85.0</td>\n",
       "      <td>124.0</td>\n",
       "    </tr>\n",
       "    <tr>\n",
       "      <th>2018-03-01 07:00:00</th>\n",
       "      <td>15</td>\n",
       "      <td>NaN</td>\n",
       "      <td>NaN</td>\n",
       "      <td>2018</td>\n",
       "      <td>3</td>\n",
       "      <td>1</td>\n",
       "      <td>7</td>\n",
       "      <td>12.0</td>\n",
       "      <td>6.0</td>\n",
       "      <td>43.0</td>\n",
       "      <td>66.0</td>\n",
       "      <td>71.0</td>\n",
       "      <td>85.0</td>\n",
       "    </tr>\n",
       "    <tr>\n",
       "      <th>2018-03-01 08:00:00</th>\n",
       "      <td>34</td>\n",
       "      <td>NaN</td>\n",
       "      <td>NaN</td>\n",
       "      <td>2018</td>\n",
       "      <td>3</td>\n",
       "      <td>1</td>\n",
       "      <td>8</td>\n",
       "      <td>15.0</td>\n",
       "      <td>12.0</td>\n",
       "      <td>6.0</td>\n",
       "      <td>43.0</td>\n",
       "      <td>66.0</td>\n",
       "      <td>71.0</td>\n",
       "    </tr>\n",
       "    <tr>\n",
       "      <th>2018-03-01 09:00:00</th>\n",
       "      <td>69</td>\n",
       "      <td>NaN</td>\n",
       "      <td>NaN</td>\n",
       "      <td>2018</td>\n",
       "      <td>3</td>\n",
       "      <td>1</td>\n",
       "      <td>9</td>\n",
       "      <td>34.0</td>\n",
       "      <td>15.0</td>\n",
       "      <td>12.0</td>\n",
       "      <td>6.0</td>\n",
       "      <td>43.0</td>\n",
       "      <td>66.0</td>\n",
       "    </tr>\n",
       "    <tr>\n",
       "      <th>2018-03-01 10:00:00</th>\n",
       "      <td>64</td>\n",
       "      <td>NaN</td>\n",
       "      <td>NaN</td>\n",
       "      <td>2018</td>\n",
       "      <td>3</td>\n",
       "      <td>1</td>\n",
       "      <td>10</td>\n",
       "      <td>69.0</td>\n",
       "      <td>34.0</td>\n",
       "      <td>15.0</td>\n",
       "      <td>12.0</td>\n",
       "      <td>6.0</td>\n",
       "      <td>43.0</td>\n",
       "    </tr>\n",
       "    <tr>\n",
       "      <th>2018-03-01 11:00:00</th>\n",
       "      <td>96</td>\n",
       "      <td>NaN</td>\n",
       "      <td>NaN</td>\n",
       "      <td>2018</td>\n",
       "      <td>3</td>\n",
       "      <td>1</td>\n",
       "      <td>11</td>\n",
       "      <td>64.0</td>\n",
       "      <td>69.0</td>\n",
       "      <td>34.0</td>\n",
       "      <td>15.0</td>\n",
       "      <td>12.0</td>\n",
       "      <td>6.0</td>\n",
       "    </tr>\n",
       "    <tr>\n",
       "      <th>2018-03-01 12:00:00</th>\n",
       "      <td>30</td>\n",
       "      <td>NaN</td>\n",
       "      <td>NaN</td>\n",
       "      <td>2018</td>\n",
       "      <td>3</td>\n",
       "      <td>1</td>\n",
       "      <td>12</td>\n",
       "      <td>96.0</td>\n",
       "      <td>64.0</td>\n",
       "      <td>69.0</td>\n",
       "      <td>34.0</td>\n",
       "      <td>15.0</td>\n",
       "      <td>12.0</td>\n",
       "    </tr>\n",
       "    <tr>\n",
       "      <th>2018-03-01 13:00:00</th>\n",
       "      <td>32</td>\n",
       "      <td>NaN</td>\n",
       "      <td>NaN</td>\n",
       "      <td>2018</td>\n",
       "      <td>3</td>\n",
       "      <td>1</td>\n",
       "      <td>13</td>\n",
       "      <td>30.0</td>\n",
       "      <td>96.0</td>\n",
       "      <td>64.0</td>\n",
       "      <td>69.0</td>\n",
       "      <td>34.0</td>\n",
       "      <td>15.0</td>\n",
       "    </tr>\n",
       "    <tr>\n",
       "      <th>2018-03-01 14:00:00</th>\n",
       "      <td>48</td>\n",
       "      <td>NaN</td>\n",
       "      <td>NaN</td>\n",
       "      <td>2018</td>\n",
       "      <td>3</td>\n",
       "      <td>1</td>\n",
       "      <td>14</td>\n",
       "      <td>32.0</td>\n",
       "      <td>30.0</td>\n",
       "      <td>96.0</td>\n",
       "      <td>64.0</td>\n",
       "      <td>69.0</td>\n",
       "      <td>34.0</td>\n",
       "    </tr>\n",
       "    <tr>\n",
       "      <th>2018-03-01 15:00:00</th>\n",
       "      <td>66</td>\n",
       "      <td>53.0</td>\n",
       "      <td>33.353089</td>\n",
       "      <td>2018</td>\n",
       "      <td>3</td>\n",
       "      <td>1</td>\n",
       "      <td>15</td>\n",
       "      <td>48.0</td>\n",
       "      <td>32.0</td>\n",
       "      <td>30.0</td>\n",
       "      <td>96.0</td>\n",
       "      <td>64.0</td>\n",
       "      <td>69.0</td>\n",
       "    </tr>\n",
       "  </tbody>\n",
       "</table>\n",
       "</div>"
      ],
      "text/plain": [
       "                     num_orders  rolling_mean  rolling_std  year  month  day  \\\n",
       "datetime                                                                       \n",
       "2018-03-01 00:00:00         124           NaN          NaN  2018      3    1   \n",
       "2018-03-01 01:00:00          85           NaN          NaN  2018      3    1   \n",
       "2018-03-01 02:00:00          71           NaN          NaN  2018      3    1   \n",
       "2018-03-01 03:00:00          66           NaN          NaN  2018      3    1   \n",
       "2018-03-01 04:00:00          43           NaN          NaN  2018      3    1   \n",
       "2018-03-01 05:00:00           6           NaN          NaN  2018      3    1   \n",
       "2018-03-01 06:00:00          12           NaN          NaN  2018      3    1   \n",
       "2018-03-01 07:00:00          15           NaN          NaN  2018      3    1   \n",
       "2018-03-01 08:00:00          34           NaN          NaN  2018      3    1   \n",
       "2018-03-01 09:00:00          69           NaN          NaN  2018      3    1   \n",
       "2018-03-01 10:00:00          64           NaN          NaN  2018      3    1   \n",
       "2018-03-01 11:00:00          96           NaN          NaN  2018      3    1   \n",
       "2018-03-01 12:00:00          30           NaN          NaN  2018      3    1   \n",
       "2018-03-01 13:00:00          32           NaN          NaN  2018      3    1   \n",
       "2018-03-01 14:00:00          48           NaN          NaN  2018      3    1   \n",
       "2018-03-01 15:00:00          66          53.0    33.353089  2018      3    1   \n",
       "\n",
       "                     hour  lag_1  lag_2  lag_3  lag_4  lag_5  lag_6  \n",
       "datetime                                                             \n",
       "2018-03-01 00:00:00     0    NaN    NaN    NaN    NaN    NaN    NaN  \n",
       "2018-03-01 01:00:00     1  124.0    NaN    NaN    NaN    NaN    NaN  \n",
       "2018-03-01 02:00:00     2   85.0  124.0    NaN    NaN    NaN    NaN  \n",
       "2018-03-01 03:00:00     3   71.0   85.0  124.0    NaN    NaN    NaN  \n",
       "2018-03-01 04:00:00     4   66.0   71.0   85.0  124.0    NaN    NaN  \n",
       "2018-03-01 05:00:00     5   43.0   66.0   71.0   85.0  124.0    NaN  \n",
       "2018-03-01 06:00:00     6    6.0   43.0   66.0   71.0   85.0  124.0  \n",
       "2018-03-01 07:00:00     7   12.0    6.0   43.0   66.0   71.0   85.0  \n",
       "2018-03-01 08:00:00     8   15.0   12.0    6.0   43.0   66.0   71.0  \n",
       "2018-03-01 09:00:00     9   34.0   15.0   12.0    6.0   43.0   66.0  \n",
       "2018-03-01 10:00:00    10   69.0   34.0   15.0   12.0    6.0   43.0  \n",
       "2018-03-01 11:00:00    11   64.0   69.0   34.0   15.0   12.0    6.0  \n",
       "2018-03-01 12:00:00    12   96.0   64.0   69.0   34.0   15.0   12.0  \n",
       "2018-03-01 13:00:00    13   30.0   96.0   64.0   69.0   34.0   15.0  \n",
       "2018-03-01 14:00:00    14   32.0   30.0   96.0   64.0   69.0   34.0  \n",
       "2018-03-01 15:00:00    15   48.0   32.0   30.0   96.0   64.0   69.0  "
      ]
     },
     "execution_count": 18,
     "metadata": {},
     "output_type": "execute_result"
    }
   ],
   "source": [
    "# Checking the head with new features\n",
    "taxi.head(16)"
   ]
  },
  {
   "cell_type": "code",
   "execution_count": 19,
   "metadata": {},
   "outputs": [],
   "source": [
    "# Dropping null data\n",
    "taxi = taxi.dropna()"
   ]
  },
  {
   "cell_type": "code",
   "execution_count": 20,
   "metadata": {},
   "outputs": [],
   "source": [
    "# Splitting data\n",
    "features = taxi.drop('num_orders', axis=1)\n",
    "target = taxi['num_orders']\n",
    "\n",
    "features_train, features_test, target_train, target_test = train_test_split(features, target, shuffle=False, test_size=0.1)"
   ]
  },
  {
   "cell_type": "code",
   "execution_count": 21,
   "metadata": {},
   "outputs": [
    {
     "name": "stdout",
     "output_type": "stream",
     "text": [
      "features_train shape (3960, 12)\n",
      "features_test shape (441, 12)\n",
      "target_train shape (3960,)\n",
      "target_test shape (441,)\n"
     ]
    }
   ],
   "source": [
    "# Checking shape of the training and test sets\n",
    "print('features_train shape', features_train.shape)\n",
    "print('features_test shape', features_test.shape)\n",
    "print('target_train shape', target_train.shape)\n",
    "print('target_test shape', target_test.shape)"
   ]
  },
  {
   "cell_type": "code",
   "execution_count": 22,
   "metadata": {},
   "outputs": [],
   "source": [
    "# Define RMSE scorer\n",
    "rmse_scorer = make_scorer(mean_squared_error, squared=False)"
   ]
  },
  {
   "cell_type": "code",
   "execution_count": 23,
   "metadata": {},
   "outputs": [],
   "source": [
    "# Initialize TimeSeriesSplit\n",
    "tscv = TimeSeriesSplit(n_splits=5)"
   ]
  },
  {
   "cell_type": "code",
   "execution_count": 24,
   "metadata": {},
   "outputs": [
    {
     "name": "stdout",
     "output_type": "stream",
     "text": [
      "RMSE scores for each fold: [26.95245769 29.01330381 30.33036278 31.86544066 39.50670021]\n",
      "Mean RMSE: 31.53365302986644\n",
      "Standard Deviation of RMSE: 4.300394927040993\n"
     ]
    }
   ],
   "source": [
    "# Define the model\n",
    "lr_model = LinearRegression()\n",
    "\n",
    "# Perform cross-validation with RMSE\n",
    "lr_scores = cross_val_score(lr_model, features_train, target_train , cv=tscv, scoring=rmse_scorer)\n",
    "\n",
    "# Print the RMSE scores\n",
    "print(\"RMSE scores for each fold:\", lr_scores)\n",
    "print(\"Mean RMSE:\", lr_scores.mean())\n",
    "print(\"Standard Deviation of RMSE:\", lr_scores.std())"
   ]
  },
  {
   "cell_type": "code",
   "execution_count": 25,
   "metadata": {},
   "outputs": [
    {
     "name": "stdout",
     "output_type": "stream",
     "text": [
      "Best est: 20\n",
      "Best RMSE scores for each fold: [24.17020353 24.71675208 23.94644878 25.38605282 31.48629789]\n",
      "Best Mean RMSE: 25.941151019385142\n",
      "Best Standard Deviation of RMSE: 2.8167723579880812\n"
     ]
    }
   ],
   "source": [
    "# Saving empty variables\n",
    "best_est = 0\n",
    "best_rf_scores = []\n",
    "best_rf_mean_rmse = float('inf')\n",
    "best_rf_std_rmse = 0\n",
    "\n",
    "# for loop finding choosing the best number of estimators\n",
    "for n in range(1, 26):\n",
    "    # Define the model\n",
    "    rf_model = RandomForestRegressor(n_estimators=n, random_state=42)\n",
    "    \n",
    "    # Perform cross-validation with RMSE\n",
    "    rf_scores = cross_val_score(rf_model, features_train, target_train, cv=tscv, scoring=rmse_scorer)\n",
    "    \n",
    "    # Average rmse\n",
    "    rf_mean_rmse = rf_scores.mean()\n",
    "    \n",
    "    # Saving scores for the best depth\n",
    "    if rf_mean_rmse < best_rf_mean_rmse and rf_mean_rmse > 0:\n",
    "        best_est = n\n",
    "        best_rf_scores = rf_scores\n",
    "        best_rf_mean_rmse = rf_mean_rmse\n",
    "        best_rf_std_rmse = rf_scores.std()\n",
    "\n",
    "# Printing results\n",
    "print('Best est:', best_est)\n",
    "print('Best RMSE scores for each fold:', best_rf_scores)\n",
    "print('Best Mean RMSE:', best_rf_mean_rmse)\n",
    "print('Best Standard Deviation of RMSE:', best_rf_std_rmse)"
   ]
  },
  {
   "cell_type": "code",
   "execution_count": 26,
   "metadata": {},
   "outputs": [
    {
     "name": "stdout",
     "output_type": "stream",
     "text": [
      "Best depth: 6\n",
      "Best RMSE scores for each fold: [27.62684216 29.58024323 29.64038602 29.08672773 37.3354617 ]\n",
      "Best Mean RMSE: 30.653932168714295\n",
      "Best Standard Deviation of RMSE: 3.4188396958333245\n"
     ]
    }
   ],
   "source": [
    "# Saving empty variables\n",
    "best_depth = 0\n",
    "best_dt_scores = []\n",
    "best_dt_mean_rmse = float('inf')\n",
    "best_dt_std_rmse = 0\n",
    "\n",
    "# for loop finding choosing the best depth\n",
    "for n in range(1, 26):\n",
    "    # Define the model\n",
    "    dt_model = DecisionTreeRegressor(max_depth=n, random_state=42)\n",
    "    \n",
    "    # Perform cross-validation with RMSE\n",
    "    dt_scores = cross_val_score(dt_model, features_train, target_train, cv=tscv, scoring=rmse_scorer)\n",
    "    \n",
    "    # Average rmse\n",
    "    dt_mean_rmse = dt_scores.mean()\n",
    "    \n",
    "    # Saving scores for the best depth\n",
    "    if dt_mean_rmse < best_dt_mean_rmse and dt_mean_rmse > 0:\n",
    "        best_depth = n\n",
    "        best_dt_scores = dt_scores\n",
    "        best_dt_mean_rmse = dt_mean_rmse\n",
    "        best_dt_std_rmse = dt_scores.std()\n",
    "\n",
    "# Printing results\n",
    "print('Best depth:', best_depth)\n",
    "print('Best RMSE scores for each fold:', best_dt_scores)\n",
    "print('Best Mean RMSE:', best_dt_mean_rmse)\n",
    "print('Best Standard Deviation of RMSE:', best_dt_std_rmse)"
   ]
  },
  {
   "cell_type": "markdown",
   "metadata": {},
   "source": [
    "Looks like the Random Forest Regressor has the best average RMSE with 25 estimators. It's also interesting to note that the RMSE scores increase on each fold of cross validation. This must be due to the increasing trend in the data."
   ]
  },
  {
   "cell_type": "markdown",
   "metadata": {},
   "source": [
    "## Testing"
   ]
  },
  {
   "cell_type": "markdown",
   "metadata": {},
   "source": [
    "Now, using the hyperparameters selected from the last step I will test the models."
   ]
  },
  {
   "cell_type": "code",
   "execution_count": 27,
   "metadata": {},
   "outputs": [
    {
     "name": "stdout",
     "output_type": "stream",
     "text": [
      "Linear Regression Final RMSE: 53.92546570477185\n"
     ]
    }
   ],
   "source": [
    "lr_model.fit(features_train, target_train)\n",
    "final_lr_pred = lr_model.predict(features_test)\n",
    "final_lr_rmse = mean_squared_error(target_test, final_lr_pred, squared=False)\n",
    "\n",
    "print('Linear Regression Final RMSE:', final_lr_rmse)"
   ]
  },
  {
   "cell_type": "code",
   "execution_count": 28,
   "metadata": {},
   "outputs": [
    {
     "name": "stdout",
     "output_type": "stream",
     "text": [
      "Random Forest Final RMSE: 44.3178405618267\n"
     ]
    }
   ],
   "source": [
    "final_rf_model = RandomForestRegressor(n_estimators=best_est, random_state=42)\n",
    "final_rf_model.fit(features_train, target_train)\n",
    "final_rf_pred = final_rf_model.predict(features_test)\n",
    "final_rf_rmse = mean_squared_error(target_test, final_rf_pred, squared=False)\n",
    "\n",
    "print('Random Forest Final RMSE:', final_rf_rmse)"
   ]
  },
  {
   "cell_type": "code",
   "execution_count": 29,
   "metadata": {},
   "outputs": [
    {
     "name": "stdout",
     "output_type": "stream",
     "text": [
      "Decision Tree Final RMSE: 55.88118924964261\n"
     ]
    }
   ],
   "source": [
    "final_dt_model = DecisionTreeRegressor(max_depth=best_depth, random_state=42)\n",
    "final_dt_model.fit(features_train, target_train)\n",
    "final_dt_pred = final_dt_model.predict(features_test)\n",
    "final_dt_rmse = mean_squared_error(target_test, final_dt_pred, squared=False)\n",
    "\n",
    "print('Decision Tree Final RMSE:', final_dt_rmse)"
   ]
  },
  {
   "cell_type": "markdown",
   "metadata": {},
   "source": [
    "Here we can see increased RMSE scores for each model but that makes sense considering that this is the end of the time series where the data trend is peaking compared to the training set. The Random Forest Regressor had the best RMSE score again. It's RMSE score was 44.32 which is under the benchmark of 48."
   ]
  },
  {
   "cell_type": "markdown",
   "metadata": {},
   "source": [
    "# Review checklist"
   ]
  },
  {
   "cell_type": "markdown",
   "metadata": {},
   "source": [
    "- [x]  Jupyter Notebook is open\n",
    "- [x]  The code is error-free\n",
    "- [x]  The cells with the code have been arranged in order of execution\n",
    "- [x]  The data has been downloaded and prepared\n",
    "- [x]  The data has been analyzed\n",
    "- [x]  The model has been trained and hyperparameters have been selected\n",
    "- [x]  The models have been evaluated. Conclusion has been provided\n",
    "- [x] *RMSE* for the test set is not more than 48"
   ]
  },
  {
   "cell_type": "code",
   "execution_count": null,
   "metadata": {},
   "outputs": [],
   "source": []
  }
 ],
 "metadata": {
  "ExecuteTimeLog": [
   {
    "duration": 366,
    "start_time": "2024-06-19T11:42:50.227Z"
   },
   {
    "duration": 510,
    "start_time": "2024-06-19T11:43:17.046Z"
   },
   {
    "duration": 805,
    "start_time": "2024-06-19T11:43:17.706Z"
   },
   {
    "duration": 137,
    "start_time": "2024-06-19T11:43:42.186Z"
   },
   {
    "duration": 48,
    "start_time": "2024-06-19T11:43:59.846Z"
   },
   {
    "duration": 18,
    "start_time": "2024-06-19T11:44:12.565Z"
   },
   {
    "duration": 33,
    "start_time": "2024-06-19T11:44:58.945Z"
   },
   {
    "duration": 10,
    "start_time": "2024-06-19T11:44:59.466Z"
   },
   {
    "duration": 22,
    "start_time": "2024-06-19T11:46:53.958Z"
   },
   {
    "duration": 9,
    "start_time": "2024-06-19T11:48:12.125Z"
   },
   {
    "duration": 5,
    "start_time": "2024-06-19T11:49:04.815Z"
   },
   {
    "duration": 9,
    "start_time": "2024-06-19T11:50:21.025Z"
   },
   {
    "duration": 21,
    "start_time": "2024-06-19T11:51:13.465Z"
   },
   {
    "duration": 5021,
    "start_time": "2024-06-19T11:52:01.725Z"
   },
   {
    "duration": 5,
    "start_time": "2024-06-19T11:52:45.105Z"
   },
   {
    "duration": 4,
    "start_time": "2024-06-19T11:54:01.487Z"
   },
   {
    "duration": 285,
    "start_time": "2024-06-19T11:54:47.851Z"
   },
   {
    "duration": 322,
    "start_time": "2024-06-19T11:56:10.827Z"
   },
   {
    "duration": 272,
    "start_time": "2024-06-19T11:56:48.706Z"
   },
   {
    "duration": 8,
    "start_time": "2024-06-19T12:00:09.573Z"
   },
   {
    "duration": 1022,
    "start_time": "2024-06-19T12:00:11.819Z"
   },
   {
    "duration": 293,
    "start_time": "2024-06-19T12:00:18.858Z"
   },
   {
    "duration": 344,
    "start_time": "2024-06-19T12:00:49.526Z"
   },
   {
    "duration": 1995,
    "start_time": "2024-06-19T12:01:52.587Z"
   },
   {
    "duration": 385,
    "start_time": "2024-06-19T12:02:13.257Z"
   },
   {
    "duration": 342,
    "start_time": "2024-06-19T12:02:50.417Z"
   },
   {
    "duration": 324,
    "start_time": "2024-06-19T12:03:40.759Z"
   },
   {
    "duration": 392,
    "start_time": "2024-06-19T12:07:38.718Z"
   },
   {
    "duration": 502,
    "start_time": "2024-06-19T12:11:34.408Z"
   },
   {
    "duration": 121,
    "start_time": "2024-06-19T12:12:35.446Z"
   },
   {
    "duration": 21,
    "start_time": "2024-06-19T12:13:16.378Z"
   },
   {
    "duration": 4,
    "start_time": "2024-06-19T12:13:27.289Z"
   },
   {
    "duration": 44,
    "start_time": "2024-06-19T12:13:33.237Z"
   },
   {
    "duration": 1189,
    "start_time": "2024-06-19T12:13:57.919Z"
   },
   {
    "duration": 38,
    "start_time": "2024-06-19T12:13:59.112Z"
   },
   {
    "duration": 13,
    "start_time": "2024-06-19T12:13:59.153Z"
   },
   {
    "duration": 6,
    "start_time": "2024-06-19T12:13:59.168Z"
   },
   {
    "duration": 50,
    "start_time": "2024-06-19T12:13:59.179Z"
   },
   {
    "duration": 6,
    "start_time": "2024-06-19T12:13:59.232Z"
   },
   {
    "duration": 20,
    "start_time": "2024-06-19T12:13:59.240Z"
   },
   {
    "duration": 8,
    "start_time": "2024-06-19T12:13:59.263Z"
   },
   {
    "duration": 454,
    "start_time": "2024-06-19T12:13:59.273Z"
   },
   {
    "duration": 552,
    "start_time": "2024-06-19T12:13:59.730Z"
   },
   {
    "duration": 7,
    "start_time": "2024-06-19T12:14:46.577Z"
   },
   {
    "duration": 9,
    "start_time": "2024-06-19T12:14:52.717Z"
   },
   {
    "duration": 125,
    "start_time": "2024-06-19T12:15:23.678Z"
   },
   {
    "duration": 1128,
    "start_time": "2024-06-19T12:16:31.272Z"
   },
   {
    "duration": 41,
    "start_time": "2024-06-19T12:16:32.404Z"
   },
   {
    "duration": 14,
    "start_time": "2024-06-19T12:16:32.448Z"
   },
   {
    "duration": 6,
    "start_time": "2024-06-19T12:16:32.465Z"
   },
   {
    "duration": 47,
    "start_time": "2024-06-19T12:16:32.477Z"
   },
   {
    "duration": 7,
    "start_time": "2024-06-19T12:16:32.526Z"
   },
   {
    "duration": 18,
    "start_time": "2024-06-19T12:16:32.536Z"
   },
   {
    "duration": 621,
    "start_time": "2024-06-19T12:16:32.557Z"
   },
   {
    "duration": 0,
    "start_time": "2024-06-19T12:16:33.181Z"
   },
   {
    "duration": 5,
    "start_time": "2024-06-19T12:19:26.999Z"
   },
   {
    "duration": 52,
    "start_time": "2024-06-19T12:19:27.919Z"
   },
   {
    "duration": 216,
    "start_time": "2024-06-19T12:24:42.679Z"
   },
   {
    "duration": 1175,
    "start_time": "2024-06-19T12:25:13.037Z"
   },
   {
    "duration": 36,
    "start_time": "2024-06-19T12:25:14.216Z"
   },
   {
    "duration": 15,
    "start_time": "2024-06-19T12:25:14.254Z"
   },
   {
    "duration": 8,
    "start_time": "2024-06-19T12:25:14.273Z"
   },
   {
    "duration": 48,
    "start_time": "2024-06-19T12:25:14.284Z"
   },
   {
    "duration": 6,
    "start_time": "2024-06-19T12:25:14.335Z"
   },
   {
    "duration": 19,
    "start_time": "2024-06-19T12:25:14.344Z"
   },
   {
    "duration": 684,
    "start_time": "2024-06-19T12:25:14.366Z"
   },
   {
    "duration": 0,
    "start_time": "2024-06-19T12:25:15.053Z"
   },
   {
    "duration": 0,
    "start_time": "2024-06-19T12:25:15.055Z"
   },
   {
    "duration": 1164,
    "start_time": "2024-06-19T12:27:29.149Z"
   },
   {
    "duration": 34,
    "start_time": "2024-06-19T12:27:30.318Z"
   },
   {
    "duration": 13,
    "start_time": "2024-06-19T12:27:30.355Z"
   },
   {
    "duration": 7,
    "start_time": "2024-06-19T12:27:30.370Z"
   },
   {
    "duration": 51,
    "start_time": "2024-06-19T12:27:30.381Z"
   },
   {
    "duration": 7,
    "start_time": "2024-06-19T12:27:30.435Z"
   },
   {
    "duration": 12,
    "start_time": "2024-06-19T12:27:30.445Z"
   },
   {
    "duration": 4,
    "start_time": "2024-06-19T12:27:30.460Z"
   },
   {
    "duration": 57,
    "start_time": "2024-06-19T12:27:30.467Z"
   },
   {
    "duration": 278,
    "start_time": "2024-06-19T12:27:30.527Z"
   },
   {
    "duration": 1144,
    "start_time": "2024-06-19T12:27:45.159Z"
   },
   {
    "duration": 41,
    "start_time": "2024-06-19T12:27:46.307Z"
   },
   {
    "duration": 16,
    "start_time": "2024-06-19T12:27:46.350Z"
   },
   {
    "duration": 5,
    "start_time": "2024-06-19T12:27:46.369Z"
   },
   {
    "duration": 14,
    "start_time": "2024-06-19T12:27:46.378Z"
   },
   {
    "duration": 7,
    "start_time": "2024-06-19T12:27:46.424Z"
   },
   {
    "duration": 12,
    "start_time": "2024-06-19T12:27:46.435Z"
   },
   {
    "duration": 12,
    "start_time": "2024-06-19T12:27:46.450Z"
   },
   {
    "duration": 328,
    "start_time": "2024-06-19T12:27:46.465Z"
   },
   {
    "duration": 468,
    "start_time": "2024-06-19T12:30:04.242Z"
   },
   {
    "duration": 246,
    "start_time": "2024-06-19T12:30:24.781Z"
   },
   {
    "duration": 290,
    "start_time": "2024-06-19T12:30:59.577Z"
   },
   {
    "duration": 258,
    "start_time": "2024-06-19T12:31:15.397Z"
   },
   {
    "duration": 223,
    "start_time": "2024-06-19T12:31:25.558Z"
   },
   {
    "duration": 204,
    "start_time": "2024-06-19T12:33:01.357Z"
   },
   {
    "duration": 247,
    "start_time": "2024-06-19T12:33:40.041Z"
   },
   {
    "duration": 218,
    "start_time": "2024-06-19T12:34:06.681Z"
   },
   {
    "duration": 232,
    "start_time": "2024-06-19T12:34:26.760Z"
   },
   {
    "duration": 210,
    "start_time": "2024-06-19T12:35:40.604Z"
   },
   {
    "duration": 217,
    "start_time": "2024-06-19T12:35:54.797Z"
   },
   {
    "duration": 225,
    "start_time": "2024-06-19T12:38:25.737Z"
   },
   {
    "duration": 213,
    "start_time": "2024-06-19T12:39:13.959Z"
   },
   {
    "duration": 218,
    "start_time": "2024-06-19T12:40:17.639Z"
   },
   {
    "duration": 231,
    "start_time": "2024-06-19T12:41:08.857Z"
   },
   {
    "duration": 231,
    "start_time": "2024-06-19T12:41:38.978Z"
   },
   {
    "duration": 1172,
    "start_time": "2024-06-19T12:43:42.447Z"
   },
   {
    "duration": 34,
    "start_time": "2024-06-19T12:43:43.625Z"
   },
   {
    "duration": 13,
    "start_time": "2024-06-19T12:43:43.662Z"
   },
   {
    "duration": 6,
    "start_time": "2024-06-19T12:43:43.680Z"
   },
   {
    "duration": 43,
    "start_time": "2024-06-19T12:43:43.690Z"
   },
   {
    "duration": 8,
    "start_time": "2024-06-19T12:43:43.738Z"
   },
   {
    "duration": 13,
    "start_time": "2024-06-19T12:43:43.749Z"
   },
   {
    "duration": 15,
    "start_time": "2024-06-19T12:43:43.765Z"
   },
   {
    "duration": 328,
    "start_time": "2024-06-19T12:43:43.782Z"
   },
   {
    "duration": 241,
    "start_time": "2024-06-19T12:43:44.115Z"
   },
   {
    "duration": 262,
    "start_time": "2024-06-19T12:43:44.360Z"
   },
   {
    "duration": 246,
    "start_time": "2024-06-19T12:43:44.625Z"
   },
   {
    "duration": 5,
    "start_time": "2024-06-19T12:45:05.986Z"
   },
   {
    "duration": 357,
    "start_time": "2024-06-19T12:45:08.186Z"
   },
   {
    "duration": 6,
    "start_time": "2024-06-19T12:47:54.685Z"
   },
   {
    "duration": 307,
    "start_time": "2024-06-19T12:47:55.448Z"
   },
   {
    "duration": 296,
    "start_time": "2024-06-19T12:48:48.074Z"
   },
   {
    "duration": 219,
    "start_time": "2024-06-19T12:51:56.645Z"
   },
   {
    "duration": 6,
    "start_time": "2024-06-19T12:54:35.826Z"
   },
   {
    "duration": 315,
    "start_time": "2024-06-20T12:05:57.915Z"
   },
   {
    "duration": 4957,
    "start_time": "2024-06-20T12:06:06.407Z"
   },
   {
    "duration": 47,
    "start_time": "2024-06-20T12:06:11.367Z"
   },
   {
    "duration": 15,
    "start_time": "2024-06-20T12:06:11.417Z"
   },
   {
    "duration": 7,
    "start_time": "2024-06-20T12:06:11.434Z"
   },
   {
    "duration": 14,
    "start_time": "2024-06-20T12:06:11.446Z"
   },
   {
    "duration": 6,
    "start_time": "2024-06-20T12:06:11.463Z"
   },
   {
    "duration": 12,
    "start_time": "2024-06-20T12:06:11.471Z"
   },
   {
    "duration": 11,
    "start_time": "2024-06-20T12:06:11.531Z"
   },
   {
    "duration": 8,
    "start_time": "2024-06-20T12:06:11.545Z"
   },
   {
    "duration": 6,
    "start_time": "2024-06-20T12:06:11.555Z"
   },
   {
    "duration": 391,
    "start_time": "2024-06-20T12:06:11.564Z"
   },
   {
    "duration": 2155,
    "start_time": "2024-06-20T12:06:11.958Z"
   },
   {
    "duration": 0,
    "start_time": "2024-06-20T12:06:14.116Z"
   },
   {
    "duration": 0,
    "start_time": "2024-06-20T12:06:14.119Z"
   },
   {
    "duration": 0,
    "start_time": "2024-06-20T12:06:14.131Z"
   },
   {
    "duration": 0,
    "start_time": "2024-06-20T12:06:14.133Z"
   },
   {
    "duration": 203,
    "start_time": "2024-06-20T12:08:21.435Z"
   },
   {
    "duration": 220,
    "start_time": "2024-06-20T12:10:03.481Z"
   },
   {
    "duration": 224,
    "start_time": "2024-06-20T12:10:03.831Z"
   },
   {
    "duration": 232,
    "start_time": "2024-06-20T12:10:04.951Z"
   },
   {
    "duration": 228,
    "start_time": "2024-06-20T12:10:38.852Z"
   },
   {
    "duration": 5,
    "start_time": "2024-06-20T12:11:29.752Z"
   },
   {
    "duration": 909,
    "start_time": "2024-06-20T12:15:07.567Z"
   },
   {
    "duration": 7,
    "start_time": "2024-06-20T12:15:36.337Z"
   },
   {
    "duration": 98,
    "start_time": "2024-06-20T12:15:37.118Z"
   },
   {
    "duration": 6,
    "start_time": "2024-06-20T12:15:56.721Z"
   },
   {
    "duration": 9,
    "start_time": "2024-06-20T12:15:57.107Z"
   },
   {
    "duration": 19,
    "start_time": "2024-06-20T12:17:19.127Z"
   },
   {
    "duration": 25,
    "start_time": "2024-06-20T12:17:27.438Z"
   },
   {
    "duration": 26,
    "start_time": "2024-06-20T12:17:34.053Z"
   },
   {
    "duration": 29,
    "start_time": "2024-06-20T12:17:42.917Z"
   },
   {
    "duration": 1380,
    "start_time": "2024-06-20T12:19:55.835Z"
   },
   {
    "duration": 38,
    "start_time": "2024-06-20T12:19:57.219Z"
   },
   {
    "duration": 14,
    "start_time": "2024-06-20T12:19:57.260Z"
   },
   {
    "duration": 6,
    "start_time": "2024-06-20T12:19:57.278Z"
   },
   {
    "duration": 48,
    "start_time": "2024-06-20T12:19:57.286Z"
   },
   {
    "duration": 6,
    "start_time": "2024-06-20T12:19:57.336Z"
   },
   {
    "duration": 10,
    "start_time": "2024-06-20T12:19:57.346Z"
   },
   {
    "duration": 12,
    "start_time": "2024-06-20T12:19:57.359Z"
   },
   {
    "duration": 7,
    "start_time": "2024-06-20T12:19:57.374Z"
   },
   {
    "duration": 6,
    "start_time": "2024-06-20T12:19:57.431Z"
   },
   {
    "duration": 424,
    "start_time": "2024-06-20T12:19:57.440Z"
   },
   {
    "duration": 232,
    "start_time": "2024-06-20T12:19:57.867Z"
   },
   {
    "duration": 228,
    "start_time": "2024-06-20T12:19:58.102Z"
   },
   {
    "duration": 243,
    "start_time": "2024-06-20T12:19:58.333Z"
   },
   {
    "duration": 251,
    "start_time": "2024-06-20T12:19:58.579Z"
   },
   {
    "duration": 6,
    "start_time": "2024-06-20T12:19:58.834Z"
   },
   {
    "duration": 0,
    "start_time": "2024-06-20T12:19:58.843Z"
   },
   {
    "duration": 0,
    "start_time": "2024-06-20T12:19:58.845Z"
   },
   {
    "duration": 5,
    "start_time": "2024-06-20T12:23:18.857Z"
   },
   {
    "duration": 14,
    "start_time": "2024-06-20T12:23:20.780Z"
   },
   {
    "duration": 28,
    "start_time": "2024-06-20T12:23:21.487Z"
   },
   {
    "duration": 7,
    "start_time": "2024-06-20T12:23:36.821Z"
   },
   {
    "duration": 28,
    "start_time": "2024-06-20T12:23:38.955Z"
   },
   {
    "duration": 5,
    "start_time": "2024-06-20T12:24:01.854Z"
   },
   {
    "duration": 1342,
    "start_time": "2024-06-20T12:24:17.772Z"
   },
   {
    "duration": 36,
    "start_time": "2024-06-20T12:24:19.118Z"
   },
   {
    "duration": 13,
    "start_time": "2024-06-20T12:24:19.156Z"
   },
   {
    "duration": 6,
    "start_time": "2024-06-20T12:24:19.172Z"
   },
   {
    "duration": 46,
    "start_time": "2024-06-20T12:24:19.184Z"
   },
   {
    "duration": 5,
    "start_time": "2024-06-20T12:24:19.234Z"
   },
   {
    "duration": 11,
    "start_time": "2024-06-20T12:24:19.242Z"
   },
   {
    "duration": 9,
    "start_time": "2024-06-20T12:24:19.256Z"
   },
   {
    "duration": 7,
    "start_time": "2024-06-20T12:24:19.268Z"
   },
   {
    "duration": 6,
    "start_time": "2024-06-20T12:24:19.279Z"
   },
   {
    "duration": 419,
    "start_time": "2024-06-20T12:24:19.332Z"
   },
   {
    "duration": 230,
    "start_time": "2024-06-20T12:24:19.754Z"
   },
   {
    "duration": 221,
    "start_time": "2024-06-20T12:24:19.988Z"
   },
   {
    "duration": 244,
    "start_time": "2024-06-20T12:24:20.214Z"
   },
   {
    "duration": 260,
    "start_time": "2024-06-20T12:24:20.460Z"
   },
   {
    "duration": 10,
    "start_time": "2024-06-20T12:24:20.723Z"
   },
   {
    "duration": 13,
    "start_time": "2024-06-20T12:24:20.736Z"
   },
   {
    "duration": 30,
    "start_time": "2024-06-20T12:24:20.752Z"
   },
   {
    "duration": 15,
    "start_time": "2024-06-20T12:26:51.687Z"
   },
   {
    "duration": 8,
    "start_time": "2024-06-20T12:30:19.646Z"
   },
   {
    "duration": 5,
    "start_time": "2024-06-20T12:31:32.917Z"
   },
   {
    "duration": 5,
    "start_time": "2024-06-20T12:33:38.538Z"
   },
   {
    "duration": 26,
    "start_time": "2024-06-20T12:38:59.405Z"
   },
   {
    "duration": 4,
    "start_time": "2024-06-20T12:39:32.122Z"
   },
   {
    "duration": 4,
    "start_time": "2024-06-20T12:41:33.469Z"
   },
   {
    "duration": 4,
    "start_time": "2024-06-20T12:41:33.951Z"
   },
   {
    "duration": 310,
    "start_time": "2024-06-20T12:42:12.826Z"
   },
   {
    "duration": 33,
    "start_time": "2024-06-20T12:51:09.182Z"
   },
   {
    "duration": 5702,
    "start_time": "2024-06-20T12:51:17.140Z"
   },
   {
    "duration": 26,
    "start_time": "2024-06-20T12:52:08.151Z"
   },
   {
    "duration": 39080,
    "start_time": "2024-06-20T13:05:33.485Z"
   },
   {
    "duration": 664,
    "start_time": "2024-06-20T13:14:13.856Z"
   },
   {
    "duration": 5798,
    "start_time": "2024-06-21T12:14:30.433Z"
   },
   {
    "duration": 51,
    "start_time": "2024-06-21T12:14:36.234Z"
   },
   {
    "duration": 13,
    "start_time": "2024-06-21T12:14:36.288Z"
   },
   {
    "duration": 8,
    "start_time": "2024-06-21T12:14:36.308Z"
   },
   {
    "duration": 22,
    "start_time": "2024-06-21T12:14:36.318Z"
   },
   {
    "duration": 8,
    "start_time": "2024-06-21T12:14:36.343Z"
   },
   {
    "duration": 14,
    "start_time": "2024-06-21T12:14:36.354Z"
   },
   {
    "duration": 46,
    "start_time": "2024-06-21T12:14:36.371Z"
   },
   {
    "duration": 9,
    "start_time": "2024-06-21T12:14:36.419Z"
   },
   {
    "duration": 7,
    "start_time": "2024-06-21T12:14:36.433Z"
   },
   {
    "duration": 394,
    "start_time": "2024-06-21T12:14:36.442Z"
   },
   {
    "duration": 263,
    "start_time": "2024-06-21T12:14:36.838Z"
   },
   {
    "duration": 234,
    "start_time": "2024-06-21T12:14:37.109Z"
   },
   {
    "duration": 267,
    "start_time": "2024-06-21T12:14:37.346Z"
   },
   {
    "duration": 260,
    "start_time": "2024-06-21T12:14:37.617Z"
   },
   {
    "duration": 6,
    "start_time": "2024-06-21T12:14:37.880Z"
   },
   {
    "duration": 30,
    "start_time": "2024-06-21T12:14:37.907Z"
   },
   {
    "duration": 36,
    "start_time": "2024-06-21T12:14:37.943Z"
   },
   {
    "duration": 12,
    "start_time": "2024-06-21T12:14:37.981Z"
   },
   {
    "duration": 17,
    "start_time": "2024-06-21T12:14:37.996Z"
   },
   {
    "duration": 6,
    "start_time": "2024-06-21T12:14:38.016Z"
   },
   {
    "duration": 4,
    "start_time": "2024-06-21T12:14:38.026Z"
   },
   {
    "duration": 642,
    "start_time": "2024-06-21T12:14:38.034Z"
   },
   {
    "duration": 0,
    "start_time": "2024-06-21T12:14:38.679Z"
   },
   {
    "duration": 0,
    "start_time": "2024-06-21T12:14:38.682Z"
   },
   {
    "duration": 1775,
    "start_time": "2024-06-21T12:15:04.871Z"
   },
   {
    "duration": 34,
    "start_time": "2024-06-21T12:15:06.649Z"
   },
   {
    "duration": 26,
    "start_time": "2024-06-21T12:15:06.689Z"
   },
   {
    "duration": 7,
    "start_time": "2024-06-21T12:15:06.719Z"
   },
   {
    "duration": 14,
    "start_time": "2024-06-21T12:15:06.729Z"
   },
   {
    "duration": 6,
    "start_time": "2024-06-21T12:15:06.745Z"
   },
   {
    "duration": 52,
    "start_time": "2024-06-21T12:15:06.754Z"
   },
   {
    "duration": 12,
    "start_time": "2024-06-21T12:15:06.809Z"
   },
   {
    "duration": 10,
    "start_time": "2024-06-21T12:15:06.824Z"
   },
   {
    "duration": 6,
    "start_time": "2024-06-21T12:15:06.842Z"
   },
   {
    "duration": 416,
    "start_time": "2024-06-21T12:15:06.851Z"
   },
   {
    "duration": 231,
    "start_time": "2024-06-21T12:15:07.269Z"
   },
   {
    "duration": 262,
    "start_time": "2024-06-21T12:15:07.506Z"
   },
   {
    "duration": 283,
    "start_time": "2024-06-21T12:15:07.774Z"
   },
   {
    "duration": 239,
    "start_time": "2024-06-21T12:15:08.062Z"
   },
   {
    "duration": 7,
    "start_time": "2024-06-21T12:15:08.308Z"
   },
   {
    "duration": 16,
    "start_time": "2024-06-21T12:15:08.319Z"
   },
   {
    "duration": 32,
    "start_time": "2024-06-21T12:15:08.338Z"
   },
   {
    "duration": 45,
    "start_time": "2024-06-21T12:15:08.374Z"
   },
   {
    "duration": 8,
    "start_time": "2024-06-21T12:15:08.427Z"
   },
   {
    "duration": 6,
    "start_time": "2024-06-21T12:15:08.438Z"
   },
   {
    "duration": 5,
    "start_time": "2024-06-21T12:15:08.448Z"
   },
   {
    "duration": 815,
    "start_time": "2024-06-21T12:15:08.456Z"
   },
   {
    "duration": 0,
    "start_time": "2024-06-21T12:15:09.274Z"
   },
   {
    "duration": 0,
    "start_time": "2024-06-21T12:15:09.275Z"
   },
   {
    "duration": 1879,
    "start_time": "2024-06-21T12:18:50.808Z"
   },
   {
    "duration": 52,
    "start_time": "2024-06-21T12:18:52.691Z"
   },
   {
    "duration": 14,
    "start_time": "2024-06-21T12:18:52.746Z"
   },
   {
    "duration": 6,
    "start_time": "2024-06-21T12:18:52.764Z"
   },
   {
    "duration": 42,
    "start_time": "2024-06-21T12:18:52.774Z"
   },
   {
    "duration": 6,
    "start_time": "2024-06-21T12:18:52.819Z"
   },
   {
    "duration": 11,
    "start_time": "2024-06-21T12:18:52.827Z"
   },
   {
    "duration": 11,
    "start_time": "2024-06-21T12:18:52.841Z"
   },
   {
    "duration": 7,
    "start_time": "2024-06-21T12:18:52.855Z"
   },
   {
    "duration": 38,
    "start_time": "2024-06-21T12:18:52.868Z"
   },
   {
    "duration": 366,
    "start_time": "2024-06-21T12:18:52.929Z"
   },
   {
    "duration": 258,
    "start_time": "2024-06-21T12:18:53.298Z"
   },
   {
    "duration": 266,
    "start_time": "2024-06-21T12:18:53.559Z"
   },
   {
    "duration": 251,
    "start_time": "2024-06-21T12:18:53.829Z"
   },
   {
    "duration": 266,
    "start_time": "2024-06-21T12:18:54.083Z"
   },
   {
    "duration": 7,
    "start_time": "2024-06-21T12:18:54.353Z"
   },
   {
    "duration": 13,
    "start_time": "2024-06-21T12:18:54.363Z"
   },
   {
    "duration": 64,
    "start_time": "2024-06-21T12:18:54.379Z"
   },
   {
    "duration": 11,
    "start_time": "2024-06-21T12:18:54.446Z"
   },
   {
    "duration": 9,
    "start_time": "2024-06-21T12:18:54.459Z"
   },
   {
    "duration": 6,
    "start_time": "2024-06-21T12:18:54.471Z"
   },
   {
    "duration": 6,
    "start_time": "2024-06-21T12:18:54.509Z"
   },
   {
    "duration": 211,
    "start_time": "2024-06-21T12:18:54.522Z"
   },
   {
    "duration": 42117,
    "start_time": "2024-06-21T12:18:54.744Z"
   },
   {
    "duration": 814,
    "start_time": "2024-06-21T12:19:36.864Z"
   },
   {
    "duration": 1789,
    "start_time": "2024-06-21T12:58:33.173Z"
   },
   {
    "duration": 42,
    "start_time": "2024-06-21T12:58:34.965Z"
   },
   {
    "duration": 14,
    "start_time": "2024-06-21T12:58:35.009Z"
   },
   {
    "duration": 6,
    "start_time": "2024-06-21T12:58:35.027Z"
   },
   {
    "duration": 13,
    "start_time": "2024-06-21T12:58:35.193Z"
   },
   {
    "duration": 5,
    "start_time": "2024-06-21T12:58:35.963Z"
   },
   {
    "duration": 11,
    "start_time": "2024-06-21T12:58:36.361Z"
   },
   {
    "duration": 11,
    "start_time": "2024-06-21T12:58:37.458Z"
   },
   {
    "duration": 9,
    "start_time": "2024-06-21T12:58:37.934Z"
   },
   {
    "duration": 8,
    "start_time": "2024-06-21T12:58:38.308Z"
   },
   {
    "duration": 357,
    "start_time": "2024-06-21T12:58:39.013Z"
   },
   {
    "duration": 234,
    "start_time": "2024-06-21T12:58:39.375Z"
   },
   {
    "duration": 217,
    "start_time": "2024-06-21T12:58:39.698Z"
   },
   {
    "duration": 227,
    "start_time": "2024-06-21T12:58:40.152Z"
   },
   {
    "duration": 233,
    "start_time": "2024-06-21T12:58:40.848Z"
   },
   {
    "duration": 5,
    "start_time": "2024-06-21T12:58:43.313Z"
   },
   {
    "duration": 13,
    "start_time": "2024-06-21T12:58:43.913Z"
   },
   {
    "duration": 34,
    "start_time": "2024-06-21T12:58:44.443Z"
   },
   {
    "duration": 10,
    "start_time": "2024-06-21T12:58:45.134Z"
   },
   {
    "duration": 7,
    "start_time": "2024-06-21T12:58:50.889Z"
   },
   {
    "duration": 7,
    "start_time": "2024-06-21T12:58:53.553Z"
   },
   {
    "duration": 7,
    "start_time": "2024-06-21T12:58:57.623Z"
   },
   {
    "duration": 253,
    "start_time": "2024-06-21T12:58:59.153Z"
   },
   {
    "duration": 12,
    "start_time": "2024-06-21T12:59:06.974Z"
   },
   {
    "duration": 7,
    "start_time": "2024-06-21T12:59:07.268Z"
   },
   {
    "duration": 731,
    "start_time": "2024-06-21T12:59:31.603Z"
   },
   {
    "duration": 12,
    "start_time": "2024-06-21T13:00:25.744Z"
   },
   {
    "duration": 746,
    "start_time": "2024-06-21T13:00:34.095Z"
   },
   {
    "duration": 5569,
    "start_time": "2024-06-25T14:46:25.138Z"
   },
   {
    "duration": 49,
    "start_time": "2024-06-25T14:46:30.713Z"
   },
   {
    "duration": 15,
    "start_time": "2024-06-25T14:46:30.764Z"
   },
   {
    "duration": 5,
    "start_time": "2024-06-25T14:46:30.786Z"
   },
   {
    "duration": 32,
    "start_time": "2024-06-25T14:46:30.794Z"
   },
   {
    "duration": 8,
    "start_time": "2024-06-25T14:46:30.830Z"
   },
   {
    "duration": 11,
    "start_time": "2024-06-25T14:46:30.842Z"
   },
   {
    "duration": 12,
    "start_time": "2024-06-25T14:46:30.857Z"
   },
   {
    "duration": 7,
    "start_time": "2024-06-25T14:46:30.912Z"
   },
   {
    "duration": 7,
    "start_time": "2024-06-25T14:46:30.926Z"
   },
   {
    "duration": 381,
    "start_time": "2024-06-25T14:46:30.936Z"
   },
   {
    "duration": 255,
    "start_time": "2024-06-25T14:46:31.321Z"
   },
   {
    "duration": 228,
    "start_time": "2024-06-25T14:46:31.579Z"
   },
   {
    "duration": 249,
    "start_time": "2024-06-25T14:46:31.814Z"
   },
   {
    "duration": 250,
    "start_time": "2024-06-25T14:46:32.066Z"
   },
   {
    "duration": 5,
    "start_time": "2024-06-25T14:46:32.319Z"
   },
   {
    "duration": 14,
    "start_time": "2024-06-25T14:46:32.328Z"
   },
   {
    "duration": 30,
    "start_time": "2024-06-25T14:46:32.345Z"
   },
   {
    "duration": 44,
    "start_time": "2024-06-25T14:46:32.377Z"
   },
   {
    "duration": 10,
    "start_time": "2024-06-25T14:46:32.424Z"
   },
   {
    "duration": 5,
    "start_time": "2024-06-25T14:46:32.437Z"
   },
   {
    "duration": 3,
    "start_time": "2024-06-25T14:46:32.446Z"
   },
   {
    "duration": 282,
    "start_time": "2024-06-25T14:46:32.452Z"
   },
   {
    "duration": 39678,
    "start_time": "2024-06-25T14:46:32.737Z"
   },
   {
    "duration": 1794,
    "start_time": "2024-06-25T15:22:02.475Z"
   },
   {
    "duration": 47,
    "start_time": "2024-06-25T15:22:04.273Z"
   },
   {
    "duration": 13,
    "start_time": "2024-06-25T15:22:04.323Z"
   },
   {
    "duration": 6,
    "start_time": "2024-06-25T15:22:04.339Z"
   },
   {
    "duration": 15,
    "start_time": "2024-06-25T15:22:04.349Z"
   },
   {
    "duration": 46,
    "start_time": "2024-06-25T15:22:04.366Z"
   },
   {
    "duration": 12,
    "start_time": "2024-06-25T15:22:04.415Z"
   },
   {
    "duration": 10,
    "start_time": "2024-06-25T15:22:04.430Z"
   },
   {
    "duration": 8,
    "start_time": "2024-06-25T15:22:04.443Z"
   },
   {
    "duration": 6,
    "start_time": "2024-06-25T15:22:04.458Z"
   },
   {
    "duration": 402,
    "start_time": "2024-06-25T15:22:04.467Z"
   },
   {
    "duration": 237,
    "start_time": "2024-06-25T15:22:04.872Z"
   },
   {
    "duration": 238,
    "start_time": "2024-06-25T15:22:05.113Z"
   },
   {
    "duration": 241,
    "start_time": "2024-06-25T15:22:05.353Z"
   },
   {
    "duration": 258,
    "start_time": "2024-06-25T15:22:05.597Z"
   },
   {
    "duration": 7,
    "start_time": "2024-06-25T15:22:05.858Z"
   },
   {
    "duration": 14,
    "start_time": "2024-06-25T15:22:05.869Z"
   },
   {
    "duration": 57,
    "start_time": "2024-06-25T15:22:05.885Z"
   },
   {
    "duration": 10,
    "start_time": "2024-06-25T15:22:05.946Z"
   },
   {
    "duration": 10,
    "start_time": "2024-06-25T15:22:05.959Z"
   },
   {
    "duration": 42,
    "start_time": "2024-06-25T15:22:05.972Z"
   },
   {
    "duration": 3,
    "start_time": "2024-06-25T15:22:06.018Z"
   },
   {
    "duration": 110,
    "start_time": "2024-06-25T15:22:06.025Z"
   },
   {
    "duration": 40045,
    "start_time": "2024-06-25T15:22:06.213Z"
   },
   {
    "duration": 1722,
    "start_time": "2024-06-25T15:28:22.957Z"
   },
   {
    "duration": 41,
    "start_time": "2024-06-25T15:28:24.684Z"
   },
   {
    "duration": 14,
    "start_time": "2024-06-25T15:28:24.728Z"
   },
   {
    "duration": 8,
    "start_time": "2024-06-25T15:28:24.745Z"
   },
   {
    "duration": 13,
    "start_time": "2024-06-25T15:28:24.757Z"
   },
   {
    "duration": 43,
    "start_time": "2024-06-25T15:28:24.773Z"
   },
   {
    "duration": 9,
    "start_time": "2024-06-25T15:28:24.820Z"
   },
   {
    "duration": 13,
    "start_time": "2024-06-25T15:28:24.832Z"
   },
   {
    "duration": 8,
    "start_time": "2024-06-25T15:28:24.848Z"
   },
   {
    "duration": 7,
    "start_time": "2024-06-25T15:28:24.859Z"
   },
   {
    "duration": 345,
    "start_time": "2024-06-25T15:28:24.912Z"
   },
   {
    "duration": 239,
    "start_time": "2024-06-25T15:28:25.260Z"
   },
   {
    "duration": 229,
    "start_time": "2024-06-25T15:28:25.502Z"
   },
   {
    "duration": 239,
    "start_time": "2024-06-25T15:28:25.737Z"
   },
   {
    "duration": 268,
    "start_time": "2024-06-25T15:28:25.979Z"
   },
   {
    "duration": 5,
    "start_time": "2024-06-25T15:28:26.250Z"
   },
   {
    "duration": 14,
    "start_time": "2024-06-25T15:28:26.259Z"
   },
   {
    "duration": 62,
    "start_time": "2024-06-25T15:28:26.276Z"
   },
   {
    "duration": 10,
    "start_time": "2024-06-25T15:28:26.343Z"
   },
   {
    "duration": 9,
    "start_time": "2024-06-25T15:28:26.356Z"
   },
   {
    "duration": 6,
    "start_time": "2024-06-25T15:28:26.367Z"
   },
   {
    "duration": 37,
    "start_time": "2024-06-25T15:28:26.376Z"
   },
   {
    "duration": 298,
    "start_time": "2024-06-25T15:28:26.417Z"
   },
   {
    "duration": 39530,
    "start_time": "2024-06-25T15:28:26.717Z"
   },
   {
    "duration": 1772,
    "start_time": "2024-06-25T15:57:19.126Z"
   },
   {
    "duration": 41,
    "start_time": "2024-06-25T15:57:20.902Z"
   },
   {
    "duration": 17,
    "start_time": "2024-06-25T15:57:20.945Z"
   },
   {
    "duration": 7,
    "start_time": "2024-06-25T15:57:20.965Z"
   },
   {
    "duration": 42,
    "start_time": "2024-06-25T15:57:20.981Z"
   },
   {
    "duration": 6,
    "start_time": "2024-06-25T15:57:21.027Z"
   },
   {
    "duration": 12,
    "start_time": "2024-06-25T15:57:21.037Z"
   },
   {
    "duration": 12,
    "start_time": "2024-06-25T15:57:21.051Z"
   },
   {
    "duration": 7,
    "start_time": "2024-06-25T15:57:21.112Z"
   },
   {
    "duration": 6,
    "start_time": "2024-06-25T15:57:21.122Z"
   },
   {
    "duration": 418,
    "start_time": "2024-06-25T15:57:21.131Z"
   },
   {
    "duration": 232,
    "start_time": "2024-06-25T15:57:21.552Z"
   },
   {
    "duration": 225,
    "start_time": "2024-06-25T15:57:21.787Z"
   },
   {
    "duration": 242,
    "start_time": "2024-06-25T15:57:22.018Z"
   },
   {
    "duration": 270,
    "start_time": "2024-06-25T15:57:22.263Z"
   },
   {
    "duration": 6,
    "start_time": "2024-06-25T15:57:22.536Z"
   },
   {
    "duration": 15,
    "start_time": "2024-06-25T15:57:22.545Z"
   },
   {
    "duration": 58,
    "start_time": "2024-06-25T15:57:22.563Z"
   },
   {
    "duration": 15,
    "start_time": "2024-06-25T15:57:22.624Z"
   },
   {
    "duration": 9,
    "start_time": "2024-06-25T15:57:22.642Z"
   },
   {
    "duration": 5,
    "start_time": "2024-06-25T15:57:22.655Z"
   },
   {
    "duration": 5,
    "start_time": "2024-06-25T15:57:22.664Z"
   },
   {
    "duration": 4,
    "start_time": "2024-06-25T15:57:22.712Z"
   },
   {
    "duration": 4,
    "start_time": "2024-06-25T15:57:22.719Z"
   },
   {
    "duration": 95,
    "start_time": "2024-06-25T15:57:22.726Z"
   },
   {
    "duration": 24930,
    "start_time": "2024-06-25T15:57:22.825Z"
   },
   {
    "duration": 10,
    "start_time": "2024-06-25T15:57:47.758Z"
   },
   {
    "duration": 0,
    "start_time": "2024-06-25T15:57:47.772Z"
   },
   {
    "duration": 0,
    "start_time": "2024-06-25T15:57:47.774Z"
   },
   {
    "duration": 0,
    "start_time": "2024-06-25T15:57:47.776Z"
   },
   {
    "duration": 7,
    "start_time": "2024-06-25T15:57:55.113Z"
   },
   {
    "duration": 735,
    "start_time": "2024-06-25T15:58:00.836Z"
   },
   {
    "duration": 1768,
    "start_time": "2024-06-25T16:08:16.769Z"
   },
   {
    "duration": 40,
    "start_time": "2024-06-25T16:08:18.541Z"
   },
   {
    "duration": 14,
    "start_time": "2024-06-25T16:08:18.584Z"
   },
   {
    "duration": 7,
    "start_time": "2024-06-25T16:08:18.613Z"
   },
   {
    "duration": 14,
    "start_time": "2024-06-25T16:08:18.625Z"
   },
   {
    "duration": 7,
    "start_time": "2024-06-25T16:08:18.642Z"
   },
   {
    "duration": 11,
    "start_time": "2024-06-25T16:08:18.652Z"
   },
   {
    "duration": 12,
    "start_time": "2024-06-25T16:08:18.712Z"
   },
   {
    "duration": 9,
    "start_time": "2024-06-25T16:08:18.727Z"
   },
   {
    "duration": 6,
    "start_time": "2024-06-25T16:08:18.739Z"
   },
   {
    "duration": 389,
    "start_time": "2024-06-25T16:08:18.748Z"
   },
   {
    "duration": 247,
    "start_time": "2024-06-25T16:08:19.140Z"
   },
   {
    "duration": 238,
    "start_time": "2024-06-25T16:08:19.389Z"
   },
   {
    "duration": 242,
    "start_time": "2024-06-25T16:08:19.634Z"
   },
   {
    "duration": 249,
    "start_time": "2024-06-25T16:08:19.879Z"
   },
   {
    "duration": 5,
    "start_time": "2024-06-25T16:08:20.131Z"
   },
   {
    "duration": 14,
    "start_time": "2024-06-25T16:08:20.140Z"
   },
   {
    "duration": 63,
    "start_time": "2024-06-25T16:08:20.157Z"
   },
   {
    "duration": 13,
    "start_time": "2024-06-25T16:08:20.224Z"
   },
   {
    "duration": 9,
    "start_time": "2024-06-25T16:08:20.239Z"
   },
   {
    "duration": 6,
    "start_time": "2024-06-25T16:08:20.252Z"
   },
   {
    "duration": 51,
    "start_time": "2024-06-25T16:08:20.261Z"
   },
   {
    "duration": 5,
    "start_time": "2024-06-25T16:08:20.315Z"
   },
   {
    "duration": 103,
    "start_time": "2024-06-25T16:08:20.323Z"
   },
   {
    "duration": 24936,
    "start_time": "2024-06-25T16:08:20.432Z"
   },
   {
    "duration": 1744,
    "start_time": "2024-06-25T16:33:24.944Z"
   },
   {
    "duration": 38,
    "start_time": "2024-06-25T16:33:26.691Z"
   },
   {
    "duration": 13,
    "start_time": "2024-06-25T16:33:26.732Z"
   },
   {
    "duration": 6,
    "start_time": "2024-06-25T16:33:26.748Z"
   },
   {
    "duration": 52,
    "start_time": "2024-06-25T16:33:26.760Z"
   },
   {
    "duration": 7,
    "start_time": "2024-06-25T16:33:26.816Z"
   },
   {
    "duration": 12,
    "start_time": "2024-06-25T16:33:26.827Z"
   },
   {
    "duration": 12,
    "start_time": "2024-06-25T16:33:26.842Z"
   },
   {
    "duration": 8,
    "start_time": "2024-06-25T16:33:26.857Z"
   },
   {
    "duration": 7,
    "start_time": "2024-06-25T16:33:26.913Z"
   },
   {
    "duration": 385,
    "start_time": "2024-06-25T16:33:26.924Z"
   },
   {
    "duration": 243,
    "start_time": "2024-06-25T16:33:27.312Z"
   },
   {
    "duration": 234,
    "start_time": "2024-06-25T16:33:27.558Z"
   },
   {
    "duration": 229,
    "start_time": "2024-06-25T16:33:27.811Z"
   },
   {
    "duration": 252,
    "start_time": "2024-06-25T16:33:28.043Z"
   },
   {
    "duration": 14,
    "start_time": "2024-06-25T16:33:28.298Z"
   },
   {
    "duration": 17,
    "start_time": "2024-06-25T16:33:28.316Z"
   },
   {
    "duration": 36,
    "start_time": "2024-06-25T16:33:28.336Z"
   },
   {
    "duration": 44,
    "start_time": "2024-06-25T16:33:28.376Z"
   },
   {
    "duration": 9,
    "start_time": "2024-06-25T16:33:28.423Z"
   },
   {
    "duration": 4,
    "start_time": "2024-06-25T16:33:28.436Z"
   },
   {
    "duration": 5,
    "start_time": "2024-06-25T16:33:28.444Z"
   },
   {
    "duration": 4,
    "start_time": "2024-06-25T16:33:28.452Z"
   },
   {
    "duration": 155,
    "start_time": "2024-06-25T16:33:28.458Z"
   },
   {
    "duration": 24876,
    "start_time": "2024-06-25T16:33:28.616Z"
   },
   {
    "duration": 498,
    "start_time": "2024-06-25T16:33:53.496Z"
   },
   {
    "duration": 0,
    "start_time": "2024-06-25T16:33:53.997Z"
   },
   {
    "duration": 0,
    "start_time": "2024-06-25T16:33:54.012Z"
   },
   {
    "duration": 0,
    "start_time": "2024-06-25T16:33:54.014Z"
   },
   {
    "duration": 5,
    "start_time": "2024-06-25T16:37:24.565Z"
   },
   {
    "duration": 2822,
    "start_time": "2024-06-25T16:37:31.050Z"
   },
   {
    "duration": 14,
    "start_time": "2024-06-25T16:37:33.875Z"
   },
   {
    "duration": 828,
    "start_time": "2024-06-25T16:37:33.922Z"
   },
   {
    "duration": 127,
    "start_time": "2024-06-25T16:37:34.755Z"
   },
   {
    "duration": 27,
    "start_time": "2024-06-25T16:38:06.826Z"
   },
   {
    "duration": 5147,
    "start_time": "2024-06-27T11:37:13.059Z"
   },
   {
    "duration": 45,
    "start_time": "2024-06-27T11:37:18.209Z"
   },
   {
    "duration": 18,
    "start_time": "2024-06-27T11:37:18.257Z"
   },
   {
    "duration": 6,
    "start_time": "2024-06-27T11:37:18.280Z"
   },
   {
    "duration": 50,
    "start_time": "2024-06-27T11:37:18.289Z"
   },
   {
    "duration": 6,
    "start_time": "2024-06-27T11:37:18.342Z"
   },
   {
    "duration": 13,
    "start_time": "2024-06-27T11:37:18.352Z"
   },
   {
    "duration": 13,
    "start_time": "2024-06-27T11:37:18.367Z"
   },
   {
    "duration": 9,
    "start_time": "2024-06-27T11:37:18.383Z"
   },
   {
    "duration": 6,
    "start_time": "2024-06-27T11:37:18.436Z"
   },
   {
    "duration": 354,
    "start_time": "2024-06-27T11:37:18.445Z"
   },
   {
    "duration": 243,
    "start_time": "2024-06-27T11:37:18.802Z"
   },
   {
    "duration": 233,
    "start_time": "2024-06-27T11:37:19.048Z"
   },
   {
    "duration": 303,
    "start_time": "2024-06-27T11:37:19.284Z"
   },
   {
    "duration": 253,
    "start_time": "2024-06-27T11:37:19.590Z"
   },
   {
    "duration": 6,
    "start_time": "2024-06-27T11:37:19.846Z"
   },
   {
    "duration": 14,
    "start_time": "2024-06-27T11:37:19.856Z"
   },
   {
    "duration": 59,
    "start_time": "2024-06-27T11:37:19.873Z"
   },
   {
    "duration": 11,
    "start_time": "2024-06-27T11:37:19.935Z"
   },
   {
    "duration": 10,
    "start_time": "2024-06-27T11:37:19.949Z"
   },
   {
    "duration": 5,
    "start_time": "2024-06-27T11:37:19.962Z"
   },
   {
    "duration": 4,
    "start_time": "2024-06-27T11:37:19.971Z"
   },
   {
    "duration": 53,
    "start_time": "2024-06-27T11:37:19.978Z"
   },
   {
    "duration": 101,
    "start_time": "2024-06-27T11:37:20.034Z"
   },
   {
    "duration": 25308,
    "start_time": "2024-06-27T11:37:20.138Z"
   },
   {
    "duration": 2751,
    "start_time": "2024-06-27T11:37:45.448Z"
   },
   {
    "duration": 29,
    "start_time": "2024-06-27T11:37:48.202Z"
   },
   {
    "duration": 693,
    "start_time": "2024-06-27T11:37:48.238Z"
   },
   {
    "duration": 29,
    "start_time": "2024-06-27T11:37:48.934Z"
   }
  ],
  "kernelspec": {
   "display_name": "Python 3 (ipykernel)",
   "language": "python",
   "name": "python3"
  },
  "language_info": {
   "codemirror_mode": {
    "name": "ipython",
    "version": 3
   },
   "file_extension": ".py",
   "mimetype": "text/x-python",
   "name": "python",
   "nbconvert_exporter": "python",
   "pygments_lexer": "ipython3",
   "version": "3.11.5"
  },
  "toc": {
   "base_numbering": 1,
   "nav_menu": {},
   "number_sections": true,
   "sideBar": true,
   "skip_h1_title": true,
   "title_cell": "Table of Contents",
   "title_sidebar": "Contents",
   "toc_cell": false,
   "toc_position": {},
   "toc_section_display": true,
   "toc_window_display": false
  }
 },
 "nbformat": 4,
 "nbformat_minor": 2
}
