{
 "cells": [
  {
   "cell_type": "markdown",
   "metadata": {},
   "source": [
    "# Used Car Price Prediction"
   ]
  },
  {
   "cell_type": "markdown",
   "metadata": {},
   "source": [
    "Rusty Bargain used car sales service is developing an app to attract new customers. In that app, you can quickly find out the market value of your car. You have access to historical data: technical specifications, trim versions, and prices. You need to build the model to determine the value. \n",
    "\n",
    "Rusty Bargain is interested in:\n",
    "\n",
    "- the quality of the prediction;\n",
    "- the speed of the prediction;\n",
    "- the time required for training"
   ]
  },
  {
   "cell_type": "markdown",
   "metadata": {},
   "source": [
    "## Data preparation"
   ]
  },
  {
   "cell_type": "code",
   "execution_count": 1,
   "metadata": {},
   "outputs": [],
   "source": [
    "# Importing libraries\n",
    "import pandas as pd\n",
    "\n",
    "from matplotlib import pyplot as plt\n",
    "\n",
    "from sklearn.model_selection import train_test_split\n",
    "from sklearn.metrics import mean_squared_error\n",
    "from sklearn.linear_model import LinearRegression\n",
    "from sklearn.tree import DecisionTreeRegressor\n",
    "from sklearn.ensemble import RandomForestRegressor\n",
    "\n",
    "import lightgbm as lgb\n",
    "\n",
    "import time"
   ]
  },
  {
   "cell_type": "code",
   "execution_count": 2,
   "metadata": {},
   "outputs": [],
   "source": [
    "# Saving the dataset to car data\n",
    "try:\n",
    "    car_data = pd.read_csv('/datasets/car_data.csv')\n",
    "except: \n",
    "    car_data = pd.read_csv('C:/Users/rober/OneDrive/Documents/DataScienceBootcamp/car_data.csv')"
   ]
  },
  {
   "cell_type": "code",
   "execution_count": 3,
   "metadata": {},
   "outputs": [
    {
     "data": {
      "text/html": [
       "<div>\n",
       "<style scoped>\n",
       "    .dataframe tbody tr th:only-of-type {\n",
       "        vertical-align: middle;\n",
       "    }\n",
       "\n",
       "    .dataframe tbody tr th {\n",
       "        vertical-align: top;\n",
       "    }\n",
       "\n",
       "    .dataframe thead th {\n",
       "        text-align: right;\n",
       "    }\n",
       "</style>\n",
       "<table border=\"1\" class=\"dataframe\">\n",
       "  <thead>\n",
       "    <tr style=\"text-align: right;\">\n",
       "      <th></th>\n",
       "      <th>DateCrawled</th>\n",
       "      <th>Price</th>\n",
       "      <th>VehicleType</th>\n",
       "      <th>RegistrationYear</th>\n",
       "      <th>Gearbox</th>\n",
       "      <th>Power</th>\n",
       "      <th>Model</th>\n",
       "      <th>Mileage</th>\n",
       "      <th>RegistrationMonth</th>\n",
       "      <th>FuelType</th>\n",
       "      <th>Brand</th>\n",
       "      <th>NotRepaired</th>\n",
       "      <th>DateCreated</th>\n",
       "      <th>NumberOfPictures</th>\n",
       "      <th>PostalCode</th>\n",
       "      <th>LastSeen</th>\n",
       "    </tr>\n",
       "  </thead>\n",
       "  <tbody>\n",
       "    <tr>\n",
       "      <th>0</th>\n",
       "      <td>24/03/2016 11:52</td>\n",
       "      <td>480</td>\n",
       "      <td>NaN</td>\n",
       "      <td>1993</td>\n",
       "      <td>manual</td>\n",
       "      <td>0</td>\n",
       "      <td>golf</td>\n",
       "      <td>150000</td>\n",
       "      <td>0</td>\n",
       "      <td>petrol</td>\n",
       "      <td>volkswagen</td>\n",
       "      <td>NaN</td>\n",
       "      <td>24/03/2016 00:00</td>\n",
       "      <td>0</td>\n",
       "      <td>70435</td>\n",
       "      <td>07/04/2016 03:16</td>\n",
       "    </tr>\n",
       "    <tr>\n",
       "      <th>1</th>\n",
       "      <td>24/03/2016 10:58</td>\n",
       "      <td>18300</td>\n",
       "      <td>coupe</td>\n",
       "      <td>2011</td>\n",
       "      <td>manual</td>\n",
       "      <td>190</td>\n",
       "      <td>NaN</td>\n",
       "      <td>125000</td>\n",
       "      <td>5</td>\n",
       "      <td>gasoline</td>\n",
       "      <td>audi</td>\n",
       "      <td>yes</td>\n",
       "      <td>24/03/2016 00:00</td>\n",
       "      <td>0</td>\n",
       "      <td>66954</td>\n",
       "      <td>07/04/2016 01:46</td>\n",
       "    </tr>\n",
       "    <tr>\n",
       "      <th>2</th>\n",
       "      <td>14/03/2016 12:52</td>\n",
       "      <td>9800</td>\n",
       "      <td>suv</td>\n",
       "      <td>2004</td>\n",
       "      <td>auto</td>\n",
       "      <td>163</td>\n",
       "      <td>grand</td>\n",
       "      <td>125000</td>\n",
       "      <td>8</td>\n",
       "      <td>gasoline</td>\n",
       "      <td>jeep</td>\n",
       "      <td>NaN</td>\n",
       "      <td>14/03/2016 00:00</td>\n",
       "      <td>0</td>\n",
       "      <td>90480</td>\n",
       "      <td>05/04/2016 12:47</td>\n",
       "    </tr>\n",
       "    <tr>\n",
       "      <th>3</th>\n",
       "      <td>17/03/2016 16:54</td>\n",
       "      <td>1500</td>\n",
       "      <td>small</td>\n",
       "      <td>2001</td>\n",
       "      <td>manual</td>\n",
       "      <td>75</td>\n",
       "      <td>golf</td>\n",
       "      <td>150000</td>\n",
       "      <td>6</td>\n",
       "      <td>petrol</td>\n",
       "      <td>volkswagen</td>\n",
       "      <td>no</td>\n",
       "      <td>17/03/2016 00:00</td>\n",
       "      <td>0</td>\n",
       "      <td>91074</td>\n",
       "      <td>17/03/2016 17:40</td>\n",
       "    </tr>\n",
       "    <tr>\n",
       "      <th>4</th>\n",
       "      <td>31/03/2016 17:25</td>\n",
       "      <td>3600</td>\n",
       "      <td>small</td>\n",
       "      <td>2008</td>\n",
       "      <td>manual</td>\n",
       "      <td>69</td>\n",
       "      <td>fabia</td>\n",
       "      <td>90000</td>\n",
       "      <td>7</td>\n",
       "      <td>gasoline</td>\n",
       "      <td>skoda</td>\n",
       "      <td>no</td>\n",
       "      <td>31/03/2016 00:00</td>\n",
       "      <td>0</td>\n",
       "      <td>60437</td>\n",
       "      <td>06/04/2016 10:17</td>\n",
       "    </tr>\n",
       "  </tbody>\n",
       "</table>\n",
       "</div>"
      ],
      "text/plain": [
       "        DateCrawled  Price VehicleType  RegistrationYear Gearbox  Power  \\\n",
       "0  24/03/2016 11:52    480         NaN              1993  manual      0   \n",
       "1  24/03/2016 10:58  18300       coupe              2011  manual    190   \n",
       "2  14/03/2016 12:52   9800         suv              2004    auto    163   \n",
       "3  17/03/2016 16:54   1500       small              2001  manual     75   \n",
       "4  31/03/2016 17:25   3600       small              2008  manual     69   \n",
       "\n",
       "   Model  Mileage  RegistrationMonth  FuelType       Brand NotRepaired  \\\n",
       "0   golf   150000                  0    petrol  volkswagen         NaN   \n",
       "1    NaN   125000                  5  gasoline        audi         yes   \n",
       "2  grand   125000                  8  gasoline        jeep         NaN   \n",
       "3   golf   150000                  6    petrol  volkswagen          no   \n",
       "4  fabia    90000                  7  gasoline       skoda          no   \n",
       "\n",
       "        DateCreated  NumberOfPictures  PostalCode          LastSeen  \n",
       "0  24/03/2016 00:00                 0       70435  07/04/2016 03:16  \n",
       "1  24/03/2016 00:00                 0       66954  07/04/2016 01:46  \n",
       "2  14/03/2016 00:00                 0       90480  05/04/2016 12:47  \n",
       "3  17/03/2016 00:00                 0       91074  17/03/2016 17:40  \n",
       "4  31/03/2016 00:00                 0       60437  06/04/2016 10:17  "
      ]
     },
     "execution_count": 3,
     "metadata": {},
     "output_type": "execute_result"
    }
   ],
   "source": [
    "# Checking head()\n",
    "car_data.head()"
   ]
  },
  {
   "cell_type": "code",
   "execution_count": 4,
   "metadata": {},
   "outputs": [
    {
     "name": "stdout",
     "output_type": "stream",
     "text": [
      "<class 'pandas.core.frame.DataFrame'>\n",
      "RangeIndex: 354369 entries, 0 to 354368\n",
      "Data columns (total 16 columns):\n",
      " #   Column             Non-Null Count   Dtype \n",
      "---  ------             --------------   ----- \n",
      " 0   DateCrawled        354369 non-null  object\n",
      " 1   Price              354369 non-null  int64 \n",
      " 2   VehicleType        316879 non-null  object\n",
      " 3   RegistrationYear   354369 non-null  int64 \n",
      " 4   Gearbox            334536 non-null  object\n",
      " 5   Power              354369 non-null  int64 \n",
      " 6   Model              334664 non-null  object\n",
      " 7   Mileage            354369 non-null  int64 \n",
      " 8   RegistrationMonth  354369 non-null  int64 \n",
      " 9   FuelType           321474 non-null  object\n",
      " 10  Brand              354369 non-null  object\n",
      " 11  NotRepaired        283215 non-null  object\n",
      " 12  DateCreated        354369 non-null  object\n",
      " 13  NumberOfPictures   354369 non-null  int64 \n",
      " 14  PostalCode         354369 non-null  int64 \n",
      " 15  LastSeen           354369 non-null  object\n",
      "dtypes: int64(7), object(9)\n",
      "memory usage: 43.3+ MB\n"
     ]
    }
   ],
   "source": [
    "# Checking info\n",
    "car_data.info()"
   ]
  },
  {
   "cell_type": "markdown",
   "metadata": {},
   "source": [
    "There's a lot of missing data in this dataset. I will fill the missing data in the categorical features with 'unknown' and drop the rest."
   ]
  },
  {
   "cell_type": "code",
   "execution_count": 5,
   "metadata": {},
   "outputs": [],
   "source": [
    "# Filling missing categorical data with 'unknown'\n",
    "car_data[['VehicleType', 'Gearbox', 'Model', 'FuelType', 'NotRepaired']] = car_data[['VehicleType', 'Gearbox', 'Model', 'FuelType', 'NotRepaired']].fillna('unknown')\n",
    "\n",
    "# Dropping missing data\n",
    "car_data = car_data.dropna()"
   ]
  },
  {
   "cell_type": "code",
   "execution_count": 6,
   "metadata": {},
   "outputs": [
    {
     "data": {
      "text/plain": [
       "262"
      ]
     },
     "execution_count": 6,
     "metadata": {},
     "output_type": "execute_result"
    }
   ],
   "source": [
    "# Checking for duplicated rows\n",
    "car_data.duplicated().sum()"
   ]
  },
  {
   "cell_type": "markdown",
   "metadata": {},
   "source": [
    "There are 262 duplicated rows. I'll drop these duplicates but since there are no identifiers of individual vehicles I won't check for additional duplicates."
   ]
  },
  {
   "cell_type": "code",
   "execution_count": 7,
   "metadata": {},
   "outputs": [],
   "source": [
    "# Dropping duplicated rows\n",
    "car_data = car_data.drop_duplicates()"
   ]
  },
  {
   "cell_type": "code",
   "execution_count": 8,
   "metadata": {},
   "outputs": [
    {
     "data": {
      "text/plain": [
       "0"
      ]
     },
     "execution_count": 8,
     "metadata": {},
     "output_type": "execute_result"
    }
   ],
   "source": [
    "# Ensuring duplicates were dropped\n",
    "car_data.duplicated().sum()"
   ]
  },
  {
   "cell_type": "code",
   "execution_count": 9,
   "metadata": {},
   "outputs": [
    {
     "name": "stdout",
     "output_type": "stream",
     "text": [
      "<class 'pandas.core.frame.DataFrame'>\n",
      "Index: 354107 entries, 0 to 354368\n",
      "Data columns (total 16 columns):\n",
      " #   Column             Non-Null Count   Dtype \n",
      "---  ------             --------------   ----- \n",
      " 0   DateCrawled        354107 non-null  object\n",
      " 1   Price              354107 non-null  int64 \n",
      " 2   VehicleType        354107 non-null  object\n",
      " 3   RegistrationYear   354107 non-null  int64 \n",
      " 4   Gearbox            354107 non-null  object\n",
      " 5   Power              354107 non-null  int64 \n",
      " 6   Model              354107 non-null  object\n",
      " 7   Mileage            354107 non-null  int64 \n",
      " 8   RegistrationMonth  354107 non-null  int64 \n",
      " 9   FuelType           354107 non-null  object\n",
      " 10  Brand              354107 non-null  object\n",
      " 11  NotRepaired        354107 non-null  object\n",
      " 12  DateCreated        354107 non-null  object\n",
      " 13  NumberOfPictures   354107 non-null  int64 \n",
      " 14  PostalCode         354107 non-null  int64 \n",
      " 15  LastSeen           354107 non-null  object\n",
      "dtypes: int64(7), object(9)\n",
      "memory usage: 45.9+ MB\n"
     ]
    }
   ],
   "source": [
    "# Checking info to ensure that everything worked\n",
    "car_data.info()"
   ]
  },
  {
   "cell_type": "markdown",
   "metadata": {},
   "source": [
    "Everything looks good so I will move on to taking care of the columns the date columns and encoding the categorical data."
   ]
  },
  {
   "cell_type": "code",
   "execution_count": 10,
   "metadata": {},
   "outputs": [
    {
     "data": {
      "text/plain": [
       "Index(['DateCrawled', 'Price', 'VehicleType', 'RegistrationYear', 'Gearbox',\n",
       "       'Power', 'Model', 'Mileage', 'RegistrationMonth', 'FuelType', 'Brand',\n",
       "       'NotRepaired', 'DateCreated', 'NumberOfPictures', 'PostalCode',\n",
       "       'LastSeen'],\n",
       "      dtype='object')"
      ]
     },
     "execution_count": 10,
     "metadata": {},
     "output_type": "execute_result"
    }
   ],
   "source": [
    "car_data.columns"
   ]
  },
  {
   "cell_type": "markdown",
   "metadata": {},
   "source": [
    "The date columns won't be necessary for the model to make predictions of the price so I will remove them since the models can't be trained with them as they are and it is unneccessary to encode or extract data from them."
   ]
  },
  {
   "cell_type": "code",
   "execution_count": 11,
   "metadata": {},
   "outputs": [
    {
     "name": "stdout",
     "output_type": "stream",
     "text": [
      "RegistraionYear min 1000\n",
      "RegistraionYear max 9999\n",
      "RegistraionYear 1st quantile 1980.0\n",
      "RegistraionYear 99th quantile 2018.0\n"
     ]
    }
   ],
   "source": [
    "# Finding min, max, 1st percentile and 99th percentile of RegistrationYear\n",
    "print('RegistraionYear min', car_data['RegistrationYear'].min())\n",
    "print('RegistraionYear max', car_data['RegistrationYear'].max())\n",
    "print('RegistraionYear 1st quantile', car_data['RegistrationYear'].quantile(0.01))\n",
    "print('RegistraionYear 99th quantile', car_data['RegistrationYear'].quantile(0.99))"
   ]
  },
  {
   "cell_type": "markdown",
   "metadata": {},
   "source": [
    "At the time that I am completing this project the year is 2024 but the latest year in this column is 9999 and the earliest is 1000. These are clearly errors because there is no way that there can be future registrations and the car wasn't invented before the 1886. To solve this I will filter out rows with these values keeping only valuesbetween 1980 and 2018."
   ]
  },
  {
   "cell_type": "code",
   "execution_count": 12,
   "metadata": {},
   "outputs": [],
   "source": [
    "# Filtering out outliers in RegistrationYear\n",
    "car_data = car_data[(car_data['RegistrationYear'] >= 1980) & (car_data['RegistrationYear'] <= 2018)]"
   ]
  },
  {
   "cell_type": "code",
   "execution_count": 13,
   "metadata": {},
   "outputs": [
    {
     "name": "stdout",
     "output_type": "stream",
     "text": [
      "RegistraionMonth min RegistrationMonth\n",
      "0     36501\n",
      "3     34013\n",
      "6     31167\n",
      "4     29009\n",
      "5     28891\n",
      "7     26734\n",
      "10    25944\n",
      "12    24180\n",
      "11    24066\n",
      "9     23644\n",
      "1     22851\n",
      "8     22461\n",
      "2     21067\n",
      "Name: count, dtype: int64\n"
     ]
    }
   ],
   "source": [
    "# Checking RegistrationMonth value_counts\n",
    "print('RegistraionMonth min', car_data['RegistrationMonth'].value_counts())"
   ]
  },
  {
   "cell_type": "code",
   "execution_count": 14,
   "metadata": {},
   "outputs": [
    {
     "data": {
      "text/html": [
       "<div>\n",
       "<style scoped>\n",
       "    .dataframe tbody tr th:only-of-type {\n",
       "        vertical-align: middle;\n",
       "    }\n",
       "\n",
       "    .dataframe tbody tr th {\n",
       "        vertical-align: top;\n",
       "    }\n",
       "\n",
       "    .dataframe thead th {\n",
       "        text-align: right;\n",
       "    }\n",
       "</style>\n",
       "<table border=\"1\" class=\"dataframe\">\n",
       "  <thead>\n",
       "    <tr style=\"text-align: right;\">\n",
       "      <th></th>\n",
       "      <th>DateCrawled</th>\n",
       "      <th>Price</th>\n",
       "      <th>VehicleType</th>\n",
       "      <th>RegistrationYear</th>\n",
       "      <th>Gearbox</th>\n",
       "      <th>Power</th>\n",
       "      <th>Model</th>\n",
       "      <th>Mileage</th>\n",
       "      <th>RegistrationMonth</th>\n",
       "      <th>FuelType</th>\n",
       "      <th>Brand</th>\n",
       "      <th>NotRepaired</th>\n",
       "      <th>DateCreated</th>\n",
       "      <th>NumberOfPictures</th>\n",
       "      <th>PostalCode</th>\n",
       "      <th>LastSeen</th>\n",
       "    </tr>\n",
       "  </thead>\n",
       "  <tbody>\n",
       "    <tr>\n",
       "      <th>0</th>\n",
       "      <td>24/03/2016 11:52</td>\n",
       "      <td>480</td>\n",
       "      <td>unknown</td>\n",
       "      <td>1993</td>\n",
       "      <td>manual</td>\n",
       "      <td>0</td>\n",
       "      <td>golf</td>\n",
       "      <td>150000</td>\n",
       "      <td>0</td>\n",
       "      <td>petrol</td>\n",
       "      <td>volkswagen</td>\n",
       "      <td>unknown</td>\n",
       "      <td>24/03/2016 00:00</td>\n",
       "      <td>0</td>\n",
       "      <td>70435</td>\n",
       "      <td>07/04/2016 03:16</td>\n",
       "    </tr>\n",
       "    <tr>\n",
       "      <th>9</th>\n",
       "      <td>17/03/2016 10:53</td>\n",
       "      <td>999</td>\n",
       "      <td>small</td>\n",
       "      <td>1998</td>\n",
       "      <td>manual</td>\n",
       "      <td>101</td>\n",
       "      <td>golf</td>\n",
       "      <td>150000</td>\n",
       "      <td>0</td>\n",
       "      <td>unknown</td>\n",
       "      <td>volkswagen</td>\n",
       "      <td>unknown</td>\n",
       "      <td>17/03/2016 00:00</td>\n",
       "      <td>0</td>\n",
       "      <td>27472</td>\n",
       "      <td>31/03/2016 17:17</td>\n",
       "    </tr>\n",
       "    <tr>\n",
       "      <th>16</th>\n",
       "      <td>01/04/2016 12:46</td>\n",
       "      <td>300</td>\n",
       "      <td>unknown</td>\n",
       "      <td>2016</td>\n",
       "      <td>unknown</td>\n",
       "      <td>60</td>\n",
       "      <td>polo</td>\n",
       "      <td>150000</td>\n",
       "      <td>0</td>\n",
       "      <td>petrol</td>\n",
       "      <td>volkswagen</td>\n",
       "      <td>unknown</td>\n",
       "      <td>01/04/2016 00:00</td>\n",
       "      <td>0</td>\n",
       "      <td>38871</td>\n",
       "      <td>01/04/2016 12:46</td>\n",
       "    </tr>\n",
       "    <tr>\n",
       "      <th>36</th>\n",
       "      <td>11/03/2016 11:50</td>\n",
       "      <td>1600</td>\n",
       "      <td>other</td>\n",
       "      <td>1991</td>\n",
       "      <td>manual</td>\n",
       "      <td>75</td>\n",
       "      <td>kadett</td>\n",
       "      <td>70000</td>\n",
       "      <td>0</td>\n",
       "      <td>unknown</td>\n",
       "      <td>opel</td>\n",
       "      <td>unknown</td>\n",
       "      <td>11/03/2016 00:00</td>\n",
       "      <td>0</td>\n",
       "      <td>2943</td>\n",
       "      <td>07/04/2016 03:46</td>\n",
       "    </tr>\n",
       "    <tr>\n",
       "      <th>54</th>\n",
       "      <td>17/03/2016 07:56</td>\n",
       "      <td>4700</td>\n",
       "      <td>wagon</td>\n",
       "      <td>2005</td>\n",
       "      <td>manual</td>\n",
       "      <td>0</td>\n",
       "      <td>signum</td>\n",
       "      <td>150000</td>\n",
       "      <td>0</td>\n",
       "      <td>unknown</td>\n",
       "      <td>opel</td>\n",
       "      <td>no</td>\n",
       "      <td>17/03/2016 00:00</td>\n",
       "      <td>0</td>\n",
       "      <td>88433</td>\n",
       "      <td>04/04/2016 04:17</td>\n",
       "    </tr>\n",
       "  </tbody>\n",
       "</table>\n",
       "</div>"
      ],
      "text/plain": [
       "         DateCrawled  Price VehicleType  RegistrationYear  Gearbox  Power  \\\n",
       "0   24/03/2016 11:52    480     unknown              1993   manual      0   \n",
       "9   17/03/2016 10:53    999       small              1998   manual    101   \n",
       "16  01/04/2016 12:46    300     unknown              2016  unknown     60   \n",
       "36  11/03/2016 11:50   1600       other              1991   manual     75   \n",
       "54  17/03/2016 07:56   4700       wagon              2005   manual      0   \n",
       "\n",
       "     Model  Mileage  RegistrationMonth FuelType       Brand NotRepaired  \\\n",
       "0     golf   150000                  0   petrol  volkswagen     unknown   \n",
       "9     golf   150000                  0  unknown  volkswagen     unknown   \n",
       "16    polo   150000                  0   petrol  volkswagen     unknown   \n",
       "36  kadett    70000                  0  unknown        opel     unknown   \n",
       "54  signum   150000                  0  unknown        opel          no   \n",
       "\n",
       "         DateCreated  NumberOfPictures  PostalCode          LastSeen  \n",
       "0   24/03/2016 00:00                 0       70435  07/04/2016 03:16  \n",
       "9   17/03/2016 00:00                 0       27472  31/03/2016 17:17  \n",
       "16  01/04/2016 00:00                 0       38871  01/04/2016 12:46  \n",
       "36  11/03/2016 00:00                 0        2943  07/04/2016 03:46  \n",
       "54  17/03/2016 00:00                 0       88433  04/04/2016 04:17  "
      ]
     },
     "execution_count": 14,
     "metadata": {},
     "output_type": "execute_result"
    }
   ],
   "source": [
    "# Viewing rows with 0 values in RegistrationMonth\n",
    "car_data[car_data['RegistrationMonth'] == 0].head()"
   ]
  },
  {
   "cell_type": "code",
   "execution_count": 15,
   "metadata": {},
   "outputs": [
    {
     "data": {
      "text/html": [
       "<div>\n",
       "<style scoped>\n",
       "    .dataframe tbody tr th:only-of-type {\n",
       "        vertical-align: middle;\n",
       "    }\n",
       "\n",
       "    .dataframe tbody tr th {\n",
       "        vertical-align: top;\n",
       "    }\n",
       "\n",
       "    .dataframe thead th {\n",
       "        text-align: right;\n",
       "    }\n",
       "</style>\n",
       "<table border=\"1\" class=\"dataframe\">\n",
       "  <thead>\n",
       "    <tr style=\"text-align: right;\">\n",
       "      <th></th>\n",
       "      <th>DateCrawled</th>\n",
       "      <th>Price</th>\n",
       "      <th>VehicleType</th>\n",
       "      <th>RegistrationYear</th>\n",
       "      <th>Gearbox</th>\n",
       "      <th>Power</th>\n",
       "      <th>Model</th>\n",
       "      <th>Mileage</th>\n",
       "      <th>RegistrationMonth</th>\n",
       "      <th>FuelType</th>\n",
       "      <th>Brand</th>\n",
       "      <th>NotRepaired</th>\n",
       "      <th>DateCreated</th>\n",
       "      <th>NumberOfPictures</th>\n",
       "      <th>PostalCode</th>\n",
       "      <th>LastSeen</th>\n",
       "    </tr>\n",
       "  </thead>\n",
       "  <tbody>\n",
       "    <tr>\n",
       "      <th>10</th>\n",
       "      <td>26/03/2016 19:54</td>\n",
       "      <td>2000</td>\n",
       "      <td>sedan</td>\n",
       "      <td>2004</td>\n",
       "      <td>manual</td>\n",
       "      <td>105</td>\n",
       "      <td>3_reihe</td>\n",
       "      <td>150000</td>\n",
       "      <td>12</td>\n",
       "      <td>petrol</td>\n",
       "      <td>mazda</td>\n",
       "      <td>no</td>\n",
       "      <td>26/03/2016 00:00</td>\n",
       "      <td>0</td>\n",
       "      <td>96224</td>\n",
       "      <td>06/04/2016 10:45</td>\n",
       "    </tr>\n",
       "    <tr>\n",
       "      <th>11</th>\n",
       "      <td>07/04/2016 10:06</td>\n",
       "      <td>2799</td>\n",
       "      <td>wagon</td>\n",
       "      <td>2005</td>\n",
       "      <td>manual</td>\n",
       "      <td>140</td>\n",
       "      <td>passat</td>\n",
       "      <td>150000</td>\n",
       "      <td>12</td>\n",
       "      <td>gasoline</td>\n",
       "      <td>volkswagen</td>\n",
       "      <td>yes</td>\n",
       "      <td>07/04/2016 00:00</td>\n",
       "      <td>0</td>\n",
       "      <td>57290</td>\n",
       "      <td>07/04/2016 10:25</td>\n",
       "    </tr>\n",
       "    <tr>\n",
       "      <th>53</th>\n",
       "      <td>29/03/2016 18:53</td>\n",
       "      <td>7999</td>\n",
       "      <td>sedan</td>\n",
       "      <td>2008</td>\n",
       "      <td>auto</td>\n",
       "      <td>143</td>\n",
       "      <td>3er</td>\n",
       "      <td>150000</td>\n",
       "      <td>12</td>\n",
       "      <td>gasoline</td>\n",
       "      <td>bmw</td>\n",
       "      <td>unknown</td>\n",
       "      <td>29/03/2016 00:00</td>\n",
       "      <td>0</td>\n",
       "      <td>71083</td>\n",
       "      <td>06/04/2016 04:45</td>\n",
       "    </tr>\n",
       "    <tr>\n",
       "      <th>87</th>\n",
       "      <td>08/03/2016 13:49</td>\n",
       "      <td>6800</td>\n",
       "      <td>small</td>\n",
       "      <td>2009</td>\n",
       "      <td>manual</td>\n",
       "      <td>82</td>\n",
       "      <td>fiesta</td>\n",
       "      <td>60000</td>\n",
       "      <td>12</td>\n",
       "      <td>petrol</td>\n",
       "      <td>ford</td>\n",
       "      <td>no</td>\n",
       "      <td>08/03/2016 00:00</td>\n",
       "      <td>0</td>\n",
       "      <td>51065</td>\n",
       "      <td>05/04/2016 19:18</td>\n",
       "    </tr>\n",
       "    <tr>\n",
       "      <th>88</th>\n",
       "      <td>07/03/2016 17:38</td>\n",
       "      <td>2990</td>\n",
       "      <td>bus</td>\n",
       "      <td>2004</td>\n",
       "      <td>manual</td>\n",
       "      <td>113</td>\n",
       "      <td>scenic</td>\n",
       "      <td>150000</td>\n",
       "      <td>12</td>\n",
       "      <td>petrol</td>\n",
       "      <td>renault</td>\n",
       "      <td>no</td>\n",
       "      <td>07/03/2016 00:00</td>\n",
       "      <td>0</td>\n",
       "      <td>41836</td>\n",
       "      <td>09/03/2016 06:15</td>\n",
       "    </tr>\n",
       "  </tbody>\n",
       "</table>\n",
       "</div>"
      ],
      "text/plain": [
       "         DateCrawled  Price VehicleType  RegistrationYear Gearbox  Power  \\\n",
       "10  26/03/2016 19:54   2000       sedan              2004  manual    105   \n",
       "11  07/04/2016 10:06   2799       wagon              2005  manual    140   \n",
       "53  29/03/2016 18:53   7999       sedan              2008    auto    143   \n",
       "87  08/03/2016 13:49   6800       small              2009  manual     82   \n",
       "88  07/03/2016 17:38   2990         bus              2004  manual    113   \n",
       "\n",
       "      Model  Mileage  RegistrationMonth  FuelType       Brand NotRepaired  \\\n",
       "10  3_reihe   150000                 12    petrol       mazda          no   \n",
       "11   passat   150000                 12  gasoline  volkswagen         yes   \n",
       "53      3er   150000                 12  gasoline         bmw     unknown   \n",
       "87   fiesta    60000                 12    petrol        ford          no   \n",
       "88   scenic   150000                 12    petrol     renault          no   \n",
       "\n",
       "         DateCreated  NumberOfPictures  PostalCode          LastSeen  \n",
       "10  26/03/2016 00:00                 0       96224  06/04/2016 10:45  \n",
       "11  07/04/2016 00:00                 0       57290  07/04/2016 10:25  \n",
       "53  29/03/2016 00:00                 0       71083  06/04/2016 04:45  \n",
       "87  08/03/2016 00:00                 0       51065  05/04/2016 19:18  \n",
       "88  07/03/2016 00:00                 0       41836  09/03/2016 06:15  "
      ]
     },
     "execution_count": 15,
     "metadata": {},
     "output_type": "execute_result"
    }
   ],
   "source": [
    "# Viewing rows with 12 values in RegistrationMonth\n",
    "car_data[car_data['RegistrationMonth'] == 12].head()"
   ]
  },
  {
   "cell_type": "markdown",
   "metadata": {},
   "source": [
    "There are 13 months in the RegistrationMonth. I don't see any pattern in either month 0 or 12. However, I don't believe that the month that a vehicle is registered is important to the price so I will just drop this column."
   ]
  },
  {
   "cell_type": "markdown",
   "metadata": {},
   "source": [
    "## EDA"
   ]
  },
  {
   "cell_type": "code",
   "execution_count": 16,
   "metadata": {},
   "outputs": [
    {
     "name": "stdout",
     "output_type": "stream",
     "text": [
      "Power min 0\n",
      "Power max 20000\n",
      "Power 1st quantile 0.0\n",
      "Power 99th quantile 300.0\n"
     ]
    }
   ],
   "source": [
    "# Finding min, max, 1st percentile and 99th quantile of Power\n",
    "print('Power min', car_data['Power'].min())\n",
    "print('Power max', car_data['Power'].max())\n",
    "print('Power 1st quantile', car_data['Power'].quantile(0.01))\n",
    "print('Power 99th quantile', car_data['Power'].quantile(0.99))"
   ]
  },
  {
   "cell_type": "code",
   "execution_count": 17,
   "metadata": {},
   "outputs": [
    {
     "data": {
      "text/html": [
       "<div>\n",
       "<style scoped>\n",
       "    .dataframe tbody tr th:only-of-type {\n",
       "        vertical-align: middle;\n",
       "    }\n",
       "\n",
       "    .dataframe tbody tr th {\n",
       "        vertical-align: top;\n",
       "    }\n",
       "\n",
       "    .dataframe thead th {\n",
       "        text-align: right;\n",
       "    }\n",
       "</style>\n",
       "<table border=\"1\" class=\"dataframe\">\n",
       "  <thead>\n",
       "    <tr style=\"text-align: right;\">\n",
       "      <th></th>\n",
       "      <th>DateCrawled</th>\n",
       "      <th>Price</th>\n",
       "      <th>VehicleType</th>\n",
       "      <th>RegistrationYear</th>\n",
       "      <th>Gearbox</th>\n",
       "      <th>Power</th>\n",
       "      <th>Model</th>\n",
       "      <th>Mileage</th>\n",
       "      <th>RegistrationMonth</th>\n",
       "      <th>FuelType</th>\n",
       "      <th>Brand</th>\n",
       "      <th>NotRepaired</th>\n",
       "      <th>DateCreated</th>\n",
       "      <th>NumberOfPictures</th>\n",
       "      <th>PostalCode</th>\n",
       "      <th>LastSeen</th>\n",
       "    </tr>\n",
       "  </thead>\n",
       "  <tbody>\n",
       "    <tr>\n",
       "      <th>0</th>\n",
       "      <td>24/03/2016 11:52</td>\n",
       "      <td>480</td>\n",
       "      <td>unknown</td>\n",
       "      <td>1993</td>\n",
       "      <td>manual</td>\n",
       "      <td>0</td>\n",
       "      <td>golf</td>\n",
       "      <td>150000</td>\n",
       "      <td>0</td>\n",
       "      <td>petrol</td>\n",
       "      <td>volkswagen</td>\n",
       "      <td>unknown</td>\n",
       "      <td>24/03/2016 00:00</td>\n",
       "      <td>0</td>\n",
       "      <td>70435</td>\n",
       "      <td>07/04/2016 03:16</td>\n",
       "    </tr>\n",
       "    <tr>\n",
       "      <th>32</th>\n",
       "      <td>15/03/2016 20:59</td>\n",
       "      <td>245</td>\n",
       "      <td>sedan</td>\n",
       "      <td>1994</td>\n",
       "      <td>unknown</td>\n",
       "      <td>0</td>\n",
       "      <td>golf</td>\n",
       "      <td>150000</td>\n",
       "      <td>2</td>\n",
       "      <td>petrol</td>\n",
       "      <td>volkswagen</td>\n",
       "      <td>no</td>\n",
       "      <td>15/03/2016 00:00</td>\n",
       "      <td>0</td>\n",
       "      <td>44145</td>\n",
       "      <td>17/03/2016 18:17</td>\n",
       "    </tr>\n",
       "    <tr>\n",
       "      <th>37</th>\n",
       "      <td>28/03/2016 17:50</td>\n",
       "      <td>1500</td>\n",
       "      <td>unknown</td>\n",
       "      <td>2016</td>\n",
       "      <td>unknown</td>\n",
       "      <td>0</td>\n",
       "      <td>kangoo</td>\n",
       "      <td>150000</td>\n",
       "      <td>1</td>\n",
       "      <td>gasoline</td>\n",
       "      <td>renault</td>\n",
       "      <td>no</td>\n",
       "      <td>28/03/2016 00:00</td>\n",
       "      <td>0</td>\n",
       "      <td>46483</td>\n",
       "      <td>30/03/2016 09:18</td>\n",
       "    </tr>\n",
       "    <tr>\n",
       "      <th>40</th>\n",
       "      <td>26/03/2016 22:06</td>\n",
       "      <td>0</td>\n",
       "      <td>unknown</td>\n",
       "      <td>1990</td>\n",
       "      <td>unknown</td>\n",
       "      <td>0</td>\n",
       "      <td>corsa</td>\n",
       "      <td>150000</td>\n",
       "      <td>1</td>\n",
       "      <td>petrol</td>\n",
       "      <td>opel</td>\n",
       "      <td>unknown</td>\n",
       "      <td>26/03/2016 00:00</td>\n",
       "      <td>0</td>\n",
       "      <td>56412</td>\n",
       "      <td>27/03/2016 17:43</td>\n",
       "    </tr>\n",
       "    <tr>\n",
       "      <th>54</th>\n",
       "      <td>17/03/2016 07:56</td>\n",
       "      <td>4700</td>\n",
       "      <td>wagon</td>\n",
       "      <td>2005</td>\n",
       "      <td>manual</td>\n",
       "      <td>0</td>\n",
       "      <td>signum</td>\n",
       "      <td>150000</td>\n",
       "      <td>0</td>\n",
       "      <td>unknown</td>\n",
       "      <td>opel</td>\n",
       "      <td>no</td>\n",
       "      <td>17/03/2016 00:00</td>\n",
       "      <td>0</td>\n",
       "      <td>88433</td>\n",
       "      <td>04/04/2016 04:17</td>\n",
       "    </tr>\n",
       "  </tbody>\n",
       "</table>\n",
       "</div>"
      ],
      "text/plain": [
       "         DateCrawled  Price VehicleType  RegistrationYear  Gearbox  Power  \\\n",
       "0   24/03/2016 11:52    480     unknown              1993   manual      0   \n",
       "32  15/03/2016 20:59    245       sedan              1994  unknown      0   \n",
       "37  28/03/2016 17:50   1500     unknown              2016  unknown      0   \n",
       "40  26/03/2016 22:06      0     unknown              1990  unknown      0   \n",
       "54  17/03/2016 07:56   4700       wagon              2005   manual      0   \n",
       "\n",
       "     Model  Mileage  RegistrationMonth  FuelType       Brand NotRepaired  \\\n",
       "0     golf   150000                  0    petrol  volkswagen     unknown   \n",
       "32    golf   150000                  2    petrol  volkswagen          no   \n",
       "37  kangoo   150000                  1  gasoline     renault          no   \n",
       "40   corsa   150000                  1    petrol        opel     unknown   \n",
       "54  signum   150000                  0   unknown        opel          no   \n",
       "\n",
       "         DateCreated  NumberOfPictures  PostalCode          LastSeen  \n",
       "0   24/03/2016 00:00                 0       70435  07/04/2016 03:16  \n",
       "32  15/03/2016 00:00                 0       44145  17/03/2016 18:17  \n",
       "37  28/03/2016 00:00                 0       46483  30/03/2016 09:18  \n",
       "40  26/03/2016 00:00                 0       56412  27/03/2016 17:43  \n",
       "54  17/03/2016 00:00                 0       88433  04/04/2016 04:17  "
      ]
     },
     "execution_count": 17,
     "metadata": {},
     "output_type": "execute_result"
    }
   ],
   "source": [
    "# Viewing rows with 0 values in Power\n",
    "car_data[car_data['Power'] == 0].head()"
   ]
  },
  {
   "cell_type": "markdown",
   "metadata": {},
   "source": [
    "I assume that the values in the Power column that are 0 are likely cars that no longer run but I cannot confirm this. There are 38993 which is a large amount but this should be dropped. However the car with the highest horsepower is slightly more than 5000 hp. This is much less than the max of 20000 in this column. I'm going to filter out all values above the 99th percentile which is 300."
   ]
  },
  {
   "cell_type": "code",
   "execution_count": 18,
   "metadata": {},
   "outputs": [],
   "source": [
    "# Filtering out outliers in Power\n",
    "car_data = car_data[(car_data['Power'] <= 300) & (car_data['Power'] > 0)]"
   ]
  },
  {
   "cell_type": "code",
   "execution_count": 19,
   "metadata": {},
   "outputs": [
    {
     "name": "stdout",
     "output_type": "stream",
     "text": [
      "Price min 0\n",
      "Price max 20000\n"
     ]
    }
   ],
   "source": [
    "# Finding min and max of Price\n",
    "print('Price min', car_data['Price'].min())\n",
    "print('Price max', car_data['Price'].max())"
   ]
  },
  {
   "cell_type": "markdown",
   "metadata": {},
   "source": [
    "Min and max price seem to be reasonable."
   ]
  },
  {
   "cell_type": "code",
   "execution_count": 20,
   "metadata": {},
   "outputs": [
    {
     "name": "stdout",
     "output_type": "stream",
     "text": [
      "Mileage min 5000\n",
      "Mileage max 150000\n"
     ]
    }
   ],
   "source": [
    "# Finding min and max of Mileage\n",
    "print('Mileage min', car_data['Mileage'].min())\n",
    "print('Mileage max', car_data['Mileage'].max())"
   ]
  },
  {
   "cell_type": "markdown",
   "metadata": {},
   "source": [
    "Mileage min and max also seem to be reasonable."
   ]
  },
  {
   "cell_type": "code",
   "execution_count": 21,
   "metadata": {},
   "outputs": [],
   "source": [
    "# Drop the original datetime columns\n",
    "car_data = car_data.drop(['DateCrawled', 'DateCreated', 'LastSeen', 'RegistrationMonth'], axis=1)"
   ]
  },
  {
   "cell_type": "code",
   "execution_count": 22,
   "metadata": {},
   "outputs": [
    {
     "name": "stdout",
     "output_type": "stream",
     "text": [
      "<class 'pandas.core.frame.DataFrame'>\n",
      "Index: 308103 entries, 1 to 354368\n",
      "Data columns (total 12 columns):\n",
      " #   Column            Non-Null Count   Dtype \n",
      "---  ------            --------------   ----- \n",
      " 0   Price             308103 non-null  int64 \n",
      " 1   VehicleType       308103 non-null  object\n",
      " 2   RegistrationYear  308103 non-null  int64 \n",
      " 3   Gearbox           308103 non-null  object\n",
      " 4   Power             308103 non-null  int64 \n",
      " 5   Model             308103 non-null  object\n",
      " 6   Mileage           308103 non-null  int64 \n",
      " 7   FuelType          308103 non-null  object\n",
      " 8   Brand             308103 non-null  object\n",
      " 9   NotRepaired       308103 non-null  object\n",
      " 10  NumberOfPictures  308103 non-null  int64 \n",
      " 11  PostalCode        308103 non-null  int64 \n",
      "dtypes: int64(6), object(6)\n",
      "memory usage: 30.6+ MB\n"
     ]
    }
   ],
   "source": [
    "car_data.info()"
   ]
  },
  {
   "cell_type": "code",
   "execution_count": 23,
   "metadata": {},
   "outputs": [
    {
     "data": {
      "text/plain": [
       "Text(0, 0.5, 'Frequency')"
      ]
     },
     "execution_count": 23,
     "metadata": {},
     "output_type": "execute_result"
    },
    {
     "data": {
      "image/png": "[encoded data removed]",
      "text/plain": [
       "<Figure size 640x480 with 1 Axes>"
      ]
     },
     "metadata": {},
     "output_type": "display_data"
    }
   ],
   "source": [
    "# Plotting RegistrationYear Distribution\n",
    "plt.hist(car_data['RegistrationYear'], bins=20)\n",
    "plt.title('RegistrationYear Distribution')\n",
    "plt.xlabel('Year')\n",
    "plt.ylabel('Frequency')"
   ]
  },
  {
   "cell_type": "markdown",
   "metadata": {},
   "source": [
    "The problem with the RegistrationYear seems to be resolved. Looks like the majority of the cars were registered between 1995 and 2013."
   ]
  },
  {
   "cell_type": "code",
   "execution_count": 24,
   "metadata": {},
   "outputs": [
    {
     "data": {
      "text/plain": [
       "Text(0, 0.5, 'Frequency')"
      ]
     },
     "execution_count": 24,
     "metadata": {},
     "output_type": "execute_result"
    },
    {
     "data": {
      "image/png": "[encoded data removed]",
      "text/plain": [
       "<Figure size 640x480 with 1 Axes>"
      ]
     },
     "metadata": {},
     "output_type": "display_data"
    }
   ],
   "source": [
    "# Plotting Power Distribution\n",
    "plt.hist(car_data['Power'], bins=20)\n",
    "plt.title('Power Distribution')\n",
    "plt.xlabel('Horsepower')\n",
    "plt.ylabel('Frequency')"
   ]
  },
  {
   "cell_type": "markdown",
   "metadata": {},
   "source": [
    "Looks like there are several spikes showing very common horsepower and we were able to get rid of the opsurd values that we had before."
   ]
  },
  {
   "cell_type": "code",
   "execution_count": 25,
   "metadata": {},
   "outputs": [
    {
     "data": {
      "text/plain": [
       "Text(0, 0.5, 'Frequency')"
      ]
     },
     "execution_count": 25,
     "metadata": {},
     "output_type": "execute_result"
    },
    {
     "data": {
      "image/png": "[encoded data removed]",
      "text/plain": [
       "<Figure size 640x480 with 1 Axes>"
      ]
     },
     "metadata": {},
     "output_type": "display_data"
    }
   ],
   "source": [
    "# Plotting Price Distribution\n",
    "plt.hist(car_data['Price'], bins=20)\n",
    "plt.title('Price Distribution')\n",
    "plt.xlabel('Price')\n",
    "plt.ylabel('Frequency')"
   ]
  },
  {
   "cell_type": "markdown",
   "metadata": {},
   "source": [
    "We can see many cars being priced low and a steady decrease in quantity being priced higher."
   ]
  },
  {
   "cell_type": "code",
   "execution_count": 26,
   "metadata": {},
   "outputs": [
    {
     "data": {
      "text/plain": [
       "Text(0, 0.5, 'Frequency')"
      ]
     },
     "execution_count": 26,
     "metadata": {},
     "output_type": "execute_result"
    },
    {
     "data": {
      "image/png": "[encoded data removed]",
      "text/plain": [
       "<Figure size 640x480 with 1 Axes>"
      ]
     },
     "metadata": {},
     "output_type": "display_data"
    }
   ],
   "source": [
    "# Plotting Mileage Distribution\n",
    "plt.hist(car_data['Mileage'], bins=5)\n",
    "plt.title('Mileage Distribution')\n",
    "plt.xlabel('Mileage')\n",
    "plt.ylabel('Frequency')"
   ]
  },
  {
   "cell_type": "markdown",
   "metadata": {},
   "source": [
    "Most cars are in the 140000 mile bin. We don't have a lot of variety in this column."
   ]
  },
  {
   "cell_type": "code",
   "execution_count": 27,
   "metadata": {},
   "outputs": [],
   "source": [
    "# Saving categorical features as a list\n",
    "categorical_features = ['VehicleType', 'Gearbox', 'Model', 'FuelType', 'Brand', 'NotRepaired']\n",
    "\n",
    "# Encoding categorical features using One Hot Encoding\n",
    "encoded_data = pd.get_dummies(car_data, columns=categorical_features, drop_first=True)"
   ]
  },
  {
   "cell_type": "code",
   "execution_count": 28,
   "metadata": {},
   "outputs": [
    {
     "data": {
      "text/html": [
       "<div>\n",
       "<style scoped>\n",
       "    .dataframe tbody tr th:only-of-type {\n",
       "        vertical-align: middle;\n",
       "    }\n",
       "\n",
       "    .dataframe tbody tr th {\n",
       "        vertical-align: top;\n",
       "    }\n",
       "\n",
       "    .dataframe thead th {\n",
       "        text-align: right;\n",
       "    }\n",
       "</style>\n",
       "<table border=\"1\" class=\"dataframe\">\n",
       "  <thead>\n",
       "    <tr style=\"text-align: right;\">\n",
       "      <th></th>\n",
       "      <th>Price</th>\n",
       "      <th>RegistrationYear</th>\n",
       "      <th>Power</th>\n",
       "      <th>Mileage</th>\n",
       "      <th>NumberOfPictures</th>\n",
       "      <th>PostalCode</th>\n",
       "      <th>VehicleType_convertible</th>\n",
       "      <th>VehicleType_coupe</th>\n",
       "      <th>VehicleType_other</th>\n",
       "      <th>VehicleType_sedan</th>\n",
       "      <th>...</th>\n",
       "      <th>Brand_smart</th>\n",
       "      <th>Brand_sonstige_autos</th>\n",
       "      <th>Brand_subaru</th>\n",
       "      <th>Brand_suzuki</th>\n",
       "      <th>Brand_toyota</th>\n",
       "      <th>Brand_trabant</th>\n",
       "      <th>Brand_volkswagen</th>\n",
       "      <th>Brand_volvo</th>\n",
       "      <th>NotRepaired_unknown</th>\n",
       "      <th>NotRepaired_yes</th>\n",
       "    </tr>\n",
       "  </thead>\n",
       "  <tbody>\n",
       "    <tr>\n",
       "      <th>1</th>\n",
       "      <td>18300</td>\n",
       "      <td>2011</td>\n",
       "      <td>190</td>\n",
       "      <td>125000</td>\n",
       "      <td>0</td>\n",
       "      <td>66954</td>\n",
       "      <td>False</td>\n",
       "      <td>True</td>\n",
       "      <td>False</td>\n",
       "      <td>False</td>\n",
       "      <td>...</td>\n",
       "      <td>False</td>\n",
       "      <td>False</td>\n",
       "      <td>False</td>\n",
       "      <td>False</td>\n",
       "      <td>False</td>\n",
       "      <td>False</td>\n",
       "      <td>False</td>\n",
       "      <td>False</td>\n",
       "      <td>False</td>\n",
       "      <td>True</td>\n",
       "    </tr>\n",
       "    <tr>\n",
       "      <th>2</th>\n",
       "      <td>9800</td>\n",
       "      <td>2004</td>\n",
       "      <td>163</td>\n",
       "      <td>125000</td>\n",
       "      <td>0</td>\n",
       "      <td>90480</td>\n",
       "      <td>False</td>\n",
       "      <td>False</td>\n",
       "      <td>False</td>\n",
       "      <td>False</td>\n",
       "      <td>...</td>\n",
       "      <td>False</td>\n",
       "      <td>False</td>\n",
       "      <td>False</td>\n",
       "      <td>False</td>\n",
       "      <td>False</td>\n",
       "      <td>False</td>\n",
       "      <td>False</td>\n",
       "      <td>False</td>\n",
       "      <td>True</td>\n",
       "      <td>False</td>\n",
       "    </tr>\n",
       "    <tr>\n",
       "      <th>3</th>\n",
       "      <td>1500</td>\n",
       "      <td>2001</td>\n",
       "      <td>75</td>\n",
       "      <td>150000</td>\n",
       "      <td>0</td>\n",
       "      <td>91074</td>\n",
       "      <td>False</td>\n",
       "      <td>False</td>\n",
       "      <td>False</td>\n",
       "      <td>False</td>\n",
       "      <td>...</td>\n",
       "      <td>False</td>\n",
       "      <td>False</td>\n",
       "      <td>False</td>\n",
       "      <td>False</td>\n",
       "      <td>False</td>\n",
       "      <td>False</td>\n",
       "      <td>True</td>\n",
       "      <td>False</td>\n",
       "      <td>False</td>\n",
       "      <td>False</td>\n",
       "    </tr>\n",
       "    <tr>\n",
       "      <th>4</th>\n",
       "      <td>3600</td>\n",
       "      <td>2008</td>\n",
       "      <td>69</td>\n",
       "      <td>90000</td>\n",
       "      <td>0</td>\n",
       "      <td>60437</td>\n",
       "      <td>False</td>\n",
       "      <td>False</td>\n",
       "      <td>False</td>\n",
       "      <td>False</td>\n",
       "      <td>...</td>\n",
       "      <td>False</td>\n",
       "      <td>False</td>\n",
       "      <td>False</td>\n",
       "      <td>False</td>\n",
       "      <td>False</td>\n",
       "      <td>False</td>\n",
       "      <td>False</td>\n",
       "      <td>False</td>\n",
       "      <td>False</td>\n",
       "      <td>False</td>\n",
       "    </tr>\n",
       "    <tr>\n",
       "      <th>5</th>\n",
       "      <td>650</td>\n",
       "      <td>1995</td>\n",
       "      <td>102</td>\n",
       "      <td>150000</td>\n",
       "      <td>0</td>\n",
       "      <td>33775</td>\n",
       "      <td>False</td>\n",
       "      <td>False</td>\n",
       "      <td>False</td>\n",
       "      <td>True</td>\n",
       "      <td>...</td>\n",
       "      <td>False</td>\n",
       "      <td>False</td>\n",
       "      <td>False</td>\n",
       "      <td>False</td>\n",
       "      <td>False</td>\n",
       "      <td>False</td>\n",
       "      <td>False</td>\n",
       "      <td>False</td>\n",
       "      <td>False</td>\n",
       "      <td>True</td>\n",
       "    </tr>\n",
       "  </tbody>\n",
       "</table>\n",
       "<p>5 rows × 312 columns</p>\n",
       "</div>"
      ],
      "text/plain": [
       "   Price  RegistrationYear  Power  Mileage  NumberOfPictures  PostalCode  \\\n",
       "1  18300              2011    190   125000                 0       66954   \n",
       "2   9800              2004    163   125000                 0       90480   \n",
       "3   1500              2001     75   150000                 0       91074   \n",
       "4   3600              2008     69    90000                 0       60437   \n",
       "5    650              1995    102   150000                 0       33775   \n",
       "\n",
       "   VehicleType_convertible  VehicleType_coupe  VehicleType_other  \\\n",
       "1                    False               True              False   \n",
       "2                    False              False              False   \n",
       "3                    False              False              False   \n",
       "4                    False              False              False   \n",
       "5                    False              False              False   \n",
       "\n",
       "   VehicleType_sedan  ...  Brand_smart  Brand_sonstige_autos  Brand_subaru  \\\n",
       "1              False  ...        False                 False         False   \n",
       "2              False  ...        False                 False         False   \n",
       "3              False  ...        False                 False         False   \n",
       "4              False  ...        False                 False         False   \n",
       "5               True  ...        False                 False         False   \n",
       "\n",
       "   Brand_suzuki  Brand_toyota  Brand_trabant  Brand_volkswagen  Brand_volvo  \\\n",
       "1         False         False          False             False        False   \n",
       "2         False         False          False             False        False   \n",
       "3         False         False          False              True        False   \n",
       "4         False         False          False             False        False   \n",
       "5         False         False          False             False        False   \n",
       "\n",
       "   NotRepaired_unknown  NotRepaired_yes  \n",
       "1                False             True  \n",
       "2                 True            False  \n",
       "3                False            False  \n",
       "4                False            False  \n",
       "5                False             True  \n",
       "\n",
       "[5 rows x 312 columns]"
      ]
     },
     "execution_count": 28,
     "metadata": {},
     "output_type": "execute_result"
    }
   ],
   "source": [
    "# Checking head()\n",
    "encoded_data.head()"
   ]
  },
  {
   "cell_type": "code",
   "execution_count": 29,
   "metadata": {},
   "outputs": [
    {
     "name": "stdout",
     "output_type": "stream",
     "text": [
      "<class 'pandas.core.frame.DataFrame'>\n",
      "Index: 308103 entries, 1 to 354368\n",
      "Columns: 312 entries, Price to NotRepaired_yes\n",
      "dtypes: bool(306), int64(6)\n",
      "memory usage: 106.4 MB\n"
     ]
    }
   ],
   "source": [
    "# Checking info\n",
    "encoded_data.info()"
   ]
  },
  {
   "cell_type": "markdown",
   "metadata": {},
   "source": [
    "After using One Hot Encoding I'm left with 312 columns but everything appears to have worked correctly."
   ]
  },
  {
   "cell_type": "markdown",
   "metadata": {},
   "source": [
    "## Model training"
   ]
  },
  {
   "cell_type": "markdown",
   "metadata": {},
   "source": [
    "Now I will train a Linear Regression, Decision Tree Regressor, Random Forest Regressor and Light GBM Regressor model. I will also tune hyperparameters for each model in order to get the best predictions. I will evaluate the predictions using RMSE (Root Mean Squared Error) and I will also compare the time that it takes to train the models and make the predictions. I expect the Linear Regression model to perform the worst in terms of the RMSE so I will use it as a sanity check for the other models."
   ]
  },
  {
   "cell_type": "code",
   "execution_count": 30,
   "metadata": {},
   "outputs": [],
   "source": [
    "# Split the dataset into training, validation and testing sets\n",
    "features = encoded_data.drop('Price', axis=1)\n",
    "target = encoded_data['Price']\n",
    "\n",
    "features_train, features_temp, target_train, target_temp = train_test_split(features, target, test_size=0.4, random_state=42)\n",
    "features_valid, features_test, target_valid, target_test = train_test_split(features_temp, target_temp, test_size=0.5, random_state=42)"
   ]
  },
  {
   "cell_type": "code",
   "execution_count": 31,
   "metadata": {},
   "outputs": [
    {
     "name": "stdout",
     "output_type": "stream",
     "text": [
      "Linear Regression RMSE: 2449.05, Fit time: 6.48 seconds, Predict time: 0.32 seconds\n"
     ]
    }
   ],
   "source": [
    "# Train Linear Regression\n",
    "lr_model = LinearRegression()\n",
    "\n",
    "# Training the model and calculating the fit time\n",
    "start_lr_fit_time = time.time()\n",
    "lr_model.fit(features_train, target_train)\n",
    "lr_fit_time = time.time() - start_lr_fit_time\n",
    "\n",
    "# Predicting and calculating the time to predict\n",
    "start_lr_pred_time = time.time()\n",
    "lr_pred = lr_model.predict(features_valid)\n",
    "lr_pred_time = time.time() - start_lr_pred_time\n",
    "\n",
    "# Finding the RMSE of the predictions\n",
    "lr_rmse = mean_squared_error(target_valid, lr_pred, squared=False)\n",
    "\n",
    "print(f'Linear Regression RMSE: {lr_rmse:.2f}, Fit time: {lr_fit_time:.2f} seconds, Predict time: {lr_pred_time:.2f} seconds')"
   ]
  },
  {
   "cell_type": "code",
   "execution_count": 32,
   "metadata": {},
   "outputs": [
    {
     "name": "stdout",
     "output_type": "stream",
     "text": [
      "Best Decision Tree Depth: 14, RMSE: 1907.30, Fit time: 6.56 seconds, Predict time: 0.11 seconds\n"
     ]
    }
   ],
   "source": [
    "# Train Decision Tree and tune hyperparameters\n",
    "\n",
    "# Save empty variables\n",
    "best_dt_rmse = float('inf')\n",
    "best_depth = 0\n",
    "dt_fit_time = 0\n",
    "dt_pred_time = 0\n",
    "\n",
    "# For loop to find best hyperparameters\n",
    "for depth in range(1, 21):\n",
    "    dt_model = DecisionTreeRegressor(max_depth=depth, random_state=42)\n",
    "    \n",
    "    # Training the model and calculating the fit time\n",
    "    start_fit_time = time.time()\n",
    "    dt_model.fit(features_train, target_train)\n",
    "    fit_time = time.time() - start_fit_time\n",
    "    \n",
    "    # Predicting and calculating the time to predict\n",
    "    start_pred_time = time.time()\n",
    "    dt_pred = dt_model.predict(features_valid)\n",
    "    pred_time = time.time() - start_pred_time\n",
    "    \n",
    "    # Finding the RMSE of the predictions\n",
    "    dt_rmse = mean_squared_error(target_valid, dt_pred, squared=False)\n",
    "    \n",
    "    # If statement to save info from the best performing models to variables saved earlier\n",
    "    if dt_rmse < best_dt_rmse and dt_rmse > 0:\n",
    "        best_dt_rmse = dt_rmse\n",
    "        best_depth = depth\n",
    "        dt_fit_time = fit_time\n",
    "        dt_pred_time = pred_time\n",
    "        \n",
    "print(f'Best Decision Tree Depth: {best_depth}, RMSE: {best_dt_rmse:.2f}, Fit time: {dt_fit_time:.2f} seconds, Predict time: {dt_pred_time:.2f} seconds')"
   ]
  },
  {
   "cell_type": "code",
   "execution_count": 33,
   "metadata": {},
   "outputs": [
    {
     "name": "stdout",
     "output_type": "stream",
     "text": [
      "Best number of Random Forest Estimators: 25, RMSE: 1637.48, Fit time: 192.75 seconds, Predict time: 1.58 seconds\n"
     ]
    }
   ],
   "source": [
    "# Train Random Forest and tune hyperparameters\n",
    "\n",
    "# Save empty variables\n",
    "best_rf_rmse = float('inf')\n",
    "best_rf_est = 0\n",
    "rf_fit_time = 0\n",
    "rf_pred_time = 0\n",
    "\n",
    "# For loop to find best hyperparameters\n",
    "for est in range(1, 26):\n",
    "    rf_model = RandomForestRegressor(n_estimators=est, random_state=42)\n",
    "    \n",
    "    # Training the model and calculating the fit time\n",
    "    start_fit_time = time.time()\n",
    "    rf_model.fit(features_train, target_train)\n",
    "    fit_time = time.time() - start_fit_time\n",
    "    \n",
    "    # Predicting and calculating the time to predict\n",
    "    start_pred_time = time.time()\n",
    "    rf_pred = rf_model.predict(features_valid)\n",
    "    pred_time = time.time() - start_pred_time\n",
    "    \n",
    "    # Finding the RMSE of the predictions\n",
    "    rf_rmse = mean_squared_error(target_valid, rf_pred, squared=False)\n",
    "    \n",
    "    # If statement to save info from the best performing models to variables saved earlier\n",
    "    if rf_rmse < best_rf_rmse and rf_rmse > 0:\n",
    "        best_rf_rmse = rf_rmse\n",
    "        best_rf_est = est\n",
    "        rf_fit_time = fit_time\n",
    "        rf_pred_time = pred_time\n",
    "        \n",
    "print(f'Best number of Random Forest Estimators: {best_rf_est}, RMSE: {best_rf_rmse:.2f}, Fit time: {rf_fit_time:.2f} seconds, Predict time: {rf_pred_time:.2f} seconds')"
   ]
  },
  {
   "cell_type": "code",
   "execution_count": 34,
   "metadata": {},
   "outputs": [
    {
     "name": "stdout",
     "output_type": "stream",
     "text": [
      "[LightGBM] [Info] Auto-choosing row-wise multi-threading, the overhead of testing was 0.010990 seconds.\n",
      "You can set `force_row_wise=true` to remove the overhead.\n",
      "And if memory is not enough, you can set `force_col_wise=true`.\n",
      "[LightGBM] [Info] Total Bins 1063\n",
      "[LightGBM] [Info] Number of data points in the train set: 184861, number of used features: 289\n",
      "[LightGBM] [Info] Start training from score 4632.139326\n",
      "[LightGBM] [Info] Auto-choosing row-wise multi-threading, the overhead of testing was 0.010276 seconds.\n",
      "You can set `force_row_wise=true` to remove the overhead.\n",
      "And if memory is not enough, you can set `force_col_wise=true`.\n",
      "[LightGBM] [Info] Total Bins 1063\n",
      "[LightGBM] [Info] Number of data points in the train set: 184861, number of used features: 289\n",
      "[LightGBM] [Info] Start training from score 4632.139326\n",
      "[LightGBM] [Info] Auto-choosing row-wise multi-threading, the overhead of testing was 0.011598 seconds.\n",
      "You can set `force_row_wise=true` to remove the overhead.\n",
      "And if memory is not enough, you can set `force_col_wise=true`.\n",
      "[LightGBM] [Info] Total Bins 1063\n",
      "[LightGBM] [Info] Number of data points in the train set: 184861, number of used features: 289\n",
      "[LightGBM] [Info] Start training from score 4632.139326\n",
      "[LightGBM] [Info] Auto-choosing row-wise multi-threading, the overhead of testing was 0.011489 seconds.\n",
      "You can set `force_row_wise=true` to remove the overhead.\n",
      "And if memory is not enough, you can set `force_col_wise=true`.\n",
      "[LightGBM] [Info] Total Bins 1063\n",
      "[LightGBM] [Info] Number of data points in the train set: 184861, number of used features: 289\n",
      "[LightGBM] [Info] Start training from score 4632.139326\n",
      "[LightGBM] [Info] Auto-choosing row-wise multi-threading, the overhead of testing was 0.009432 seconds.\n",
      "You can set `force_row_wise=true` to remove the overhead.\n",
      "And if memory is not enough, you can set `force_col_wise=true`.\n",
      "[LightGBM] [Info] Total Bins 1063\n",
      "[LightGBM] [Info] Number of data points in the train set: 184861, number of used features: 289\n",
      "[LightGBM] [Info] Start training from score 4632.139326\n",
      "[LightGBM] [Info] Auto-choosing row-wise multi-threading, the overhead of testing was 0.010873 seconds.\n",
      "You can set `force_row_wise=true` to remove the overhead.\n",
      "And if memory is not enough, you can set `force_col_wise=true`.\n",
      "[LightGBM] [Info] Total Bins 1063\n",
      "[LightGBM] [Info] Number of data points in the train set: 184861, number of used features: 289\n",
      "[LightGBM] [Info] Start training from score 4632.139326\n",
      "[LightGBM] [Info] Auto-choosing row-wise multi-threading, the overhead of testing was 0.010924 seconds.\n",
      "You can set `force_row_wise=true` to remove the overhead.\n",
      "And if memory is not enough, you can set `force_col_wise=true`.\n",
      "[LightGBM] [Info] Total Bins 1063\n",
      "[LightGBM] [Info] Number of data points in the train set: 184861, number of used features: 289\n",
      "[LightGBM] [Info] Start training from score 4632.139326\n",
      "[LightGBM] [Info] Auto-choosing row-wise multi-threading, the overhead of testing was 0.010491 seconds.\n",
      "You can set `force_row_wise=true` to remove the overhead.\n",
      "And if memory is not enough, you can set `force_col_wise=true`.\n",
      "[LightGBM] [Info] Total Bins 1063\n",
      "[LightGBM] [Info] Number of data points in the train set: 184861, number of used features: 289\n",
      "[LightGBM] [Info] Start training from score 4632.139326\n",
      "[LightGBM] [Info] Auto-choosing row-wise multi-threading, the overhead of testing was 0.012310 seconds.\n",
      "You can set `force_row_wise=true` to remove the overhead.\n",
      "And if memory is not enough, you can set `force_col_wise=true`.\n",
      "[LightGBM] [Info] Total Bins 1063\n",
      "[LightGBM] [Info] Number of data points in the train set: 184861, number of used features: 289\n",
      "[LightGBM] [Info] Start training from score 4632.139326\n",
      "[LightGBM] [Info] Auto-choosing row-wise multi-threading, the overhead of testing was 0.009795 seconds.\n",
      "You can set `force_row_wise=true` to remove the overhead.\n",
      "And if memory is not enough, you can set `force_col_wise=true`.\n",
      "[LightGBM] [Info] Total Bins 1063\n",
      "[LightGBM] [Info] Number of data points in the train set: 184861, number of used features: 289\n",
      "[LightGBM] [Info] Start training from score 4632.139326\n",
      "[LightGBM] [Info] Auto-choosing row-wise multi-threading, the overhead of testing was 0.014181 seconds.\n",
      "You can set `force_row_wise=true` to remove the overhead.\n",
      "And if memory is not enough, you can set `force_col_wise=true`.\n",
      "[LightGBM] [Info] Total Bins 1063\n",
      "[LightGBM] [Info] Number of data points in the train set: 184861, number of used features: 289\n",
      "[LightGBM] [Info] Start training from score 4632.139326\n",
      "[LightGBM] [Info] Auto-choosing row-wise multi-threading, the overhead of testing was 0.009678 seconds.\n",
      "You can set `force_row_wise=true` to remove the overhead.\n",
      "And if memory is not enough, you can set `force_col_wise=true`.\n",
      "[LightGBM] [Info] Total Bins 1063\n",
      "[LightGBM] [Info] Number of data points in the train set: 184861, number of used features: 289\n",
      "[LightGBM] [Info] Start training from score 4632.139326\n",
      "[LightGBM] [Info] Auto-choosing row-wise multi-threading, the overhead of testing was 0.009444 seconds.\n",
      "You can set `force_row_wise=true` to remove the overhead.\n",
      "And if memory is not enough, you can set `force_col_wise=true`.\n",
      "[LightGBM] [Info] Total Bins 1063\n",
      "[LightGBM] [Info] Number of data points in the train set: 184861, number of used features: 289\n",
      "[LightGBM] [Info] Start training from score 4632.139326\n",
      "[LightGBM] [Info] Auto-choosing row-wise multi-threading, the overhead of testing was 0.009611 seconds.\n",
      "You can set `force_row_wise=true` to remove the overhead.\n",
      "And if memory is not enough, you can set `force_col_wise=true`.\n",
      "[LightGBM] [Info] Total Bins 1063\n",
      "[LightGBM] [Info] Number of data points in the train set: 184861, number of used features: 289\n",
      "[LightGBM] [Info] Start training from score 4632.139326\n",
      "[LightGBM] [Info] Auto-choosing row-wise multi-threading, the overhead of testing was 0.008842 seconds.\n",
      "You can set `force_row_wise=true` to remove the overhead.\n",
      "And if memory is not enough, you can set `force_col_wise=true`.\n",
      "[LightGBM] [Info] Total Bins 1063\n",
      "[LightGBM] [Info] Number of data points in the train set: 184861, number of used features: 289\n",
      "[LightGBM] [Info] Start training from score 4632.139326\n",
      "[LightGBM] [Info] Auto-choosing row-wise multi-threading, the overhead of testing was 0.008839 seconds.\n",
      "You can set `force_row_wise=true` to remove the overhead.\n",
      "And if memory is not enough, you can set `force_col_wise=true`.\n",
      "[LightGBM] [Info] Total Bins 1063\n",
      "[LightGBM] [Info] Number of data points in the train set: 184861, number of used features: 289\n",
      "[LightGBM] [Info] Start training from score 4632.139326\n",
      "[LightGBM] [Info] Auto-choosing row-wise multi-threading, the overhead of testing was 0.009516 seconds.\n",
      "You can set `force_row_wise=true` to remove the overhead.\n",
      "And if memory is not enough, you can set `force_col_wise=true`.\n",
      "[LightGBM] [Info] Total Bins 1063\n",
      "[LightGBM] [Info] Number of data points in the train set: 184861, number of used features: 289\n",
      "[LightGBM] [Info] Start training from score 4632.139326\n",
      "[LightGBM] [Info] Auto-choosing row-wise multi-threading, the overhead of testing was 0.009170 seconds.\n",
      "You can set `force_row_wise=true` to remove the overhead.\n",
      "And if memory is not enough, you can set `force_col_wise=true`.\n",
      "[LightGBM] [Info] Total Bins 1063\n",
      "[LightGBM] [Info] Number of data points in the train set: 184861, number of used features: 289\n",
      "[LightGBM] [Info] Start training from score 4632.139326\n",
      "[LightGBM] [Info] Auto-choosing row-wise multi-threading, the overhead of testing was 0.010340 seconds.\n",
      "You can set `force_row_wise=true` to remove the overhead.\n",
      "And if memory is not enough, you can set `force_col_wise=true`.\n",
      "[LightGBM] [Info] Total Bins 1063\n",
      "[LightGBM] [Info] Number of data points in the train set: 184861, number of used features: 289\n",
      "[LightGBM] [Info] Start training from score 4632.139326\n",
      "[LightGBM] [Info] Auto-choosing row-wise multi-threading, the overhead of testing was 0.010321 seconds.\n",
      "You can set `force_row_wise=true` to remove the overhead.\n",
      "And if memory is not enough, you can set `force_col_wise=true`.\n",
      "[LightGBM] [Info] Total Bins 1063\n",
      "[LightGBM] [Info] Number of data points in the train set: 184861, number of used features: 289\n",
      "[LightGBM] [Info] Start training from score 4632.139326\n"
     ]
    },
    {
     "name": "stdout",
     "output_type": "stream",
     "text": [
      "[LightGBM] [Info] Auto-choosing row-wise multi-threading, the overhead of testing was 0.011746 seconds.\n",
      "You can set `force_row_wise=true` to remove the overhead.\n",
      "And if memory is not enough, you can set `force_col_wise=true`.\n",
      "[LightGBM] [Info] Total Bins 1063\n",
      "[LightGBM] [Info] Number of data points in the train set: 184861, number of used features: 289\n",
      "[LightGBM] [Info] Start training from score 4632.139326\n",
      "[LightGBM] [Info] Auto-choosing row-wise multi-threading, the overhead of testing was 0.011676 seconds.\n",
      "You can set `force_row_wise=true` to remove the overhead.\n",
      "And if memory is not enough, you can set `force_col_wise=true`.\n",
      "[LightGBM] [Info] Total Bins 1063\n",
      "[LightGBM] [Info] Number of data points in the train set: 184861, number of used features: 289\n",
      "[LightGBM] [Info] Start training from score 4632.139326\n",
      "[LightGBM] [Info] Auto-choosing row-wise multi-threading, the overhead of testing was 0.012207 seconds.\n",
      "You can set `force_row_wise=true` to remove the overhead.\n",
      "And if memory is not enough, you can set `force_col_wise=true`.\n",
      "[LightGBM] [Info] Total Bins 1063\n",
      "[LightGBM] [Info] Number of data points in the train set: 184861, number of used features: 289\n",
      "[LightGBM] [Info] Start training from score 4632.139326\n",
      "[LightGBM] [Info] Auto-choosing row-wise multi-threading, the overhead of testing was 0.008982 seconds.\n",
      "You can set `force_row_wise=true` to remove the overhead.\n",
      "And if memory is not enough, you can set `force_col_wise=true`.\n",
      "[LightGBM] [Info] Total Bins 1063\n",
      "[LightGBM] [Info] Number of data points in the train set: 184861, number of used features: 289\n",
      "[LightGBM] [Info] Start training from score 4632.139326\n",
      "[LightGBM] [Info] Auto-choosing row-wise multi-threading, the overhead of testing was 0.009421 seconds.\n",
      "You can set `force_row_wise=true` to remove the overhead.\n",
      "And if memory is not enough, you can set `force_col_wise=true`.\n",
      "[LightGBM] [Info] Total Bins 1063\n",
      "[LightGBM] [Info] Number of data points in the train set: 184861, number of used features: 289\n",
      "[LightGBM] [Info] Start training from score 4632.139326\n",
      "Best number of Light GBM Estimators: 25, RMSE: 2422.48, Fit time: 1.43 seconds, Predict time: 0.27 seconds\n"
     ]
    }
   ],
   "source": [
    "# Train LightGBM Regressor and tune hyperparameters\n",
    "\n",
    "# Save empty variables\n",
    "best_lgb_rmse = float('inf')\n",
    "best_lgb_est = 0\n",
    "lgb_fit_time = 0\n",
    "lgb_pred_time = 0\n",
    "\n",
    "# For loop to find best hyperparameters\n",
    "for est in range(1, 26):\n",
    "    lgb_model = lgb.LGBMRegressor(num_leaves=31, learning_rate=0.05, n_estimators=est, random_state=42, verbose=-1)\n",
    "    \n",
    "    # Training the model and calculating the fit time\n",
    "    start_fit_time = time.time()\n",
    "    lgb_model.fit(features_train, target_train)\n",
    "    fit_time = time.time() - start_fit_time\n",
    "    \n",
    "    # Predicting and calculating the time to predict\n",
    "    start_pred_time = time.time()\n",
    "    lgb_pred = lgb_model.predict(features_valid)\n",
    "    pred_time = time.time() - start_pred_time\n",
    "    \n",
    "    # Finding the RMSE of the predictions\n",
    "    lgb_rmse = mean_squared_error(target_valid, lgb_pred, squared=False)\n",
    "    \n",
    "    # If statement to save info from the best performing models to variables saved earlier\n",
    "    if lgb_rmse < best_lgb_rmse and lgb_rmse > 0:\n",
    "        best_lgb_rmse = lgb_rmse\n",
    "        best_lgb_est = est\n",
    "        lgb_fit_time = fit_time\n",
    "        lgb_pred_time = pred_time\n",
    "        \n",
    "print(f'Best number of Light GBM Estimators: {best_lgb_est}, RMSE: {best_lgb_rmse:.2f}, Fit time: {lgb_fit_time:.2f} seconds, Predict time: {lgb_pred_time:.2f} seconds')"
   ]
  },
  {
   "cell_type": "markdown",
   "metadata": {},
   "source": [
    "## Model Testing"
   ]
  },
  {
   "cell_type": "code",
   "execution_count": 35,
   "metadata": {},
   "outputs": [
    {
     "name": "stdout",
     "output_type": "stream",
     "text": [
      "Linear Regression RMSE: 2466.77, Predict time: 0.33 seconds\n"
     ]
    }
   ],
   "source": [
    "# Testing Linear Regression model\n",
    "\n",
    "# Predicting and calculating the time to predict\n",
    "final_start_lr_pred_time = time.time()\n",
    "final_lr_pred = lr_model.predict(features_test)\n",
    "final_lr_pred_time = time.time() - final_start_lr_pred_time\n",
    "\n",
    "# Finding the RMSE of the predictions\n",
    "final_lr_rmse = mean_squared_error(target_test, final_lr_pred, squared=False)\n",
    "\n",
    "print(f'Linear Regression RMSE: {final_lr_rmse:.2f}, Predict time: {final_lr_pred_time:.2f} seconds')"
   ]
  },
  {
   "cell_type": "code",
   "execution_count": 36,
   "metadata": {},
   "outputs": [
    {
     "name": "stdout",
     "output_type": "stream",
     "text": [
      "Best Decision Tree Depth: 14, RMSE: 1929.20, Fit time: 6.74 seconds, Predict time: 0.11 seconds\n"
     ]
    }
   ],
   "source": [
    "# Testing Decision Tree model\n",
    "final_dt_model = DecisionTreeRegressor(max_depth=best_depth, random_state=42)\n",
    "    \n",
    "# Training the model and calculating the fit time\n",
    "final_dt_start_fit_time = time.time()\n",
    "final_dt_model.fit(features_train, target_train)\n",
    "final_dt_fit_time = time.time() - final_dt_start_fit_time\n",
    "    \n",
    "# Predicting and calculating the time to predict\n",
    "final_dt_start_pred_time = time.time()\n",
    "final_dt_pred = final_dt_model.predict(features_test)\n",
    "final_dt_pred_time = time.time() - final_dt_start_pred_time\n",
    "    \n",
    "# Finding the RMSE of the predictions\n",
    "final_dt_rmse = mean_squared_error(target_test, final_dt_pred, squared=False)\n",
    "        \n",
    "print(f'Best Decision Tree Depth: {best_depth}, RMSE: {final_dt_rmse:.2f}, Fit time: {final_dt_fit_time:.2f} seconds, Predict time: {final_dt_pred_time:.2f} seconds')"
   ]
  },
  {
   "cell_type": "code",
   "execution_count": 37,
   "metadata": {},
   "outputs": [
    {
     "name": "stdout",
     "output_type": "stream",
     "text": [
      "Final Random Forest RMSE: 1641.11, Fit time: 195.59 seconds, Predict time: 1.59 seconds\n"
     ]
    }
   ],
   "source": [
    "# Testing Random Forest model\n",
    "final_rf_model = RandomForestRegressor(n_estimators=best_rf_est, random_state=42)\n",
    "\n",
    "# Training the model and calculating the fit time\n",
    "final_start_rf_fit_time = time.time()\n",
    "final_rf_model.fit(features_train, target_train)\n",
    "final_rf_fit_time = time.time() - final_start_rf_fit_time\n",
    "\n",
    "# Predicting and calculating the time to predict\n",
    "final_start_rf_pred_time = time.time()\n",
    "final_rf_pred = final_rf_model.predict(features_test)\n",
    "final_rf_pred_time = time.time() - final_start_rf_pred_time\n",
    "\n",
    "# Finding the RMSE of the predictions\n",
    "final_rf_rmse = mean_squared_error(target_test, final_rf_pred, squared=False)\n",
    "        \n",
    "print(f'Final Random Forest RMSE: {final_rf_rmse:.2f}, Fit time: {final_rf_fit_time:.2f} seconds, Predict time: {final_rf_pred_time:.2f} seconds')"
   ]
  },
  {
   "cell_type": "code",
   "execution_count": 38,
   "metadata": {},
   "outputs": [
    {
     "name": "stdout",
     "output_type": "stream",
     "text": [
      "[LightGBM] [Info] Auto-choosing row-wise multi-threading, the overhead of testing was 0.013109 seconds.\n",
      "You can set `force_row_wise=true` to remove the overhead.\n",
      "And if memory is not enough, you can set `force_col_wise=true`.\n",
      "[LightGBM] [Info] Total Bins 1063\n",
      "[LightGBM] [Info] Number of data points in the train set: 184861, number of used features: 289\n",
      "[LightGBM] [Info] Start training from score 4632.139326\n",
      "Final Light GBM RMSE: 2432.90, Fit time: 2.34 seconds, Predict time: 0.23 seconds\n"
     ]
    }
   ],
   "source": [
    "# Testing LGB model\n",
    "final_lgb_model = lgb.LGBMRegressor(num_leaves=31, learning_rate=0.05, n_estimators=best_lgb_est, random_state=42)\n",
    "\n",
    "# Training the model and calculating the fit time\n",
    "final_start_lgb_fit_time = time.time()\n",
    "final_lgb_model.fit(features_train, target_train)\n",
    "final_fit_time = time.time() - final_start_lgb_fit_time\n",
    "\n",
    "# Predicting and calculating the time to predict\n",
    "final_start_lgb_pred_time = time.time()\n",
    "final_lgb_pred = final_lgb_model.predict(features_test)\n",
    "final_pred_time = time.time() - final_start_lgb_pred_time\n",
    "\n",
    "# Finding the RMSE of the predictions\n",
    "final_lgb_rmse = mean_squared_error(target_test, final_lgb_pred, squared=False)\n",
    "        \n",
    "print(f'Final Light GBM RMSE: {final_lgb_rmse:.2f}, Fit time: {final_fit_time:.2f} seconds, Predict time: {final_pred_time:.2f} seconds')"
   ]
  },
  {
   "cell_type": "markdown",
   "metadata": {},
   "source": [
    "## Model analysis"
   ]
  },
  {
   "cell_type": "markdown",
   "metadata": {},
   "source": [
    "All models did indeed perform better than the Linear Regression model. The Random Forest model had the lowest RMSE score. However, it was considerably slower than the other models, taking more than 3 minutes to fit the data. The fastest fit time was under 3 seconds from the Light GBM Regressor, however the RMSE score was not much better than the Linear Regression model. Overall the best performing model seems to be the Decision Tree. The Decision Tree RMSE score was not the lowest but it was significantly better than the Random Forest model and the Light GBM model. It's fit time was 6.74 seconds, beating the the Random Forest model by more than 3 minutes. It's prediction time was also the lowest of all the other models, coming in at 0.11 seconds.\n",
    "\n",
    "    Linear Regression:\n",
    "        RMSE: 2466.77\n",
    "        Fit time: 6.48 seconds\n",
    "        Prediction time: 0.33 seconds\n",
    "    \n",
    "    Decision Tree:\n",
    "        Depth: 14\n",
    "        RMSE: 1929.20\n",
    "        Fit time: 6.74 seconds\n",
    "        Predict time: 0.11 seconds\n",
    "\n",
    "    Random Forest:\n",
    "        Estimators: 25\n",
    "        RMSE: 1641.11\n",
    "        Fit time: 195.59 seconds\n",
    "        Predict time: 1.59 seconds\n",
    "\n",
    "    Light GBM:\n",
    "        Estimators: 25\n",
    "        RMSE: 2432.90\n",
    "        Fit time: 2.34 seconds\n",
    "        Predict time: 0.23 seconds"
   ]
  },
  {
   "cell_type": "markdown",
   "metadata": {},
   "source": [
    "# Checklist"
   ]
  },
  {
   "cell_type": "markdown",
   "metadata": {},
   "source": [
    "Type 'x' to check. Then press Shift+Enter."
   ]
  },
  {
   "cell_type": "markdown",
   "metadata": {},
   "source": [
    "- [x]  Jupyter Notebook is open\n",
    "- [x]  Code is error free\n",
    "- [x]  The cells with the code have been arranged in order of execution\n",
    "- [x]  The data has been downloaded and prepared\n",
    "- [x]  The models have been trained\n",
    "- [x]  The analysis of speed and quality of the models has been performed"
   ]
  }
 ],
 "metadata": {
  "ExecuteTimeLog": [
   {
    "duration": 462,
    "start_time": "2024-06-12T19:16:11.461Z"
   },
   {
    "duration": 881,
    "start_time": "2024-06-12T19:16:45.462Z"
   },
   {
    "duration": 25,
    "start_time": "2024-06-12T19:17:06.236Z"
   },
   {
    "duration": 155,
    "start_time": "2024-06-12T19:24:55.292Z"
   },
   {
    "duration": 476,
    "start_time": "2024-06-12T19:29:25.731Z"
   },
   {
    "duration": 783,
    "start_time": "2024-06-12T19:29:26.211Z"
   },
   {
    "duration": 39,
    "start_time": "2024-06-12T19:29:26.996Z"
   },
   {
    "duration": 159,
    "start_time": "2024-06-12T19:29:27.038Z"
   },
   {
    "duration": 190,
    "start_time": "2024-06-12T19:29:49.067Z"
   },
   {
    "duration": 296,
    "start_time": "2024-06-12T19:30:18.508Z"
   },
   {
    "duration": 346,
    "start_time": "2024-06-12T19:31:35.446Z"
   },
   {
    "duration": 290,
    "start_time": "2024-06-12T19:32:01.153Z"
   },
   {
    "duration": 122,
    "start_time": "2024-06-12T19:32:12.689Z"
   },
   {
    "duration": 6,
    "start_time": "2024-06-12T19:34:17.820Z"
   },
   {
    "duration": 321,
    "start_time": "2024-06-12T19:43:31.675Z"
   },
   {
    "duration": 537,
    "start_time": "2024-06-12T19:43:39.526Z"
   },
   {
    "duration": 834,
    "start_time": "2024-06-12T19:43:40.069Z"
   },
   {
    "duration": 35,
    "start_time": "2024-06-12T19:43:40.907Z"
   },
   {
    "duration": 172,
    "start_time": "2024-06-12T19:43:40.946Z"
   },
   {
    "duration": 201,
    "start_time": "2024-06-12T19:43:41.122Z"
   },
   {
    "duration": 351,
    "start_time": "2024-06-12T19:43:41.326Z"
   },
   {
    "duration": 382,
    "start_time": "2024-06-12T19:43:41.681Z"
   },
   {
    "duration": 116,
    "start_time": "2024-06-12T19:43:42.067Z"
   },
   {
    "duration": 7,
    "start_time": "2024-06-12T19:43:42.187Z"
   },
   {
    "duration": 470,
    "start_time": "2024-06-12T19:44:00.365Z"
   },
   {
    "duration": 853,
    "start_time": "2024-06-12T19:44:00.839Z"
   },
   {
    "duration": 42,
    "start_time": "2024-06-12T19:44:01.697Z"
   },
   {
    "duration": 179,
    "start_time": "2024-06-12T19:44:01.744Z"
   },
   {
    "duration": 198,
    "start_time": "2024-06-12T19:44:01.926Z"
   },
   {
    "duration": 328,
    "start_time": "2024-06-12T19:44:02.127Z"
   },
   {
    "duration": 376,
    "start_time": "2024-06-12T19:44:02.459Z"
   },
   {
    "duration": 110,
    "start_time": "2024-06-12T19:44:03.033Z"
   },
   {
    "duration": 8,
    "start_time": "2024-06-12T19:44:03.824Z"
   },
   {
    "duration": 470,
    "start_time": "2024-06-12T19:44:21.585Z"
   },
   {
    "duration": 793,
    "start_time": "2024-06-12T19:44:22.059Z"
   },
   {
    "duration": 26,
    "start_time": "2024-06-12T19:44:22.855Z"
   },
   {
    "duration": 179,
    "start_time": "2024-06-12T19:44:22.885Z"
   },
   {
    "duration": 211,
    "start_time": "2024-06-12T19:44:23.068Z"
   },
   {
    "duration": 362,
    "start_time": "2024-06-12T19:44:23.282Z"
   },
   {
    "duration": 394,
    "start_time": "2024-06-12T19:44:23.650Z"
   },
   {
    "duration": 136,
    "start_time": "2024-06-12T19:44:24.048Z"
   },
   {
    "duration": 9,
    "start_time": "2024-06-12T19:44:24.188Z"
   },
   {
    "duration": 457,
    "start_time": "2024-06-12T19:44:45.572Z"
   },
   {
    "duration": 837,
    "start_time": "2024-06-12T19:44:46.033Z"
   },
   {
    "duration": 28,
    "start_time": "2024-06-12T19:44:46.873Z"
   },
   {
    "duration": 166,
    "start_time": "2024-06-12T19:44:46.906Z"
   },
   {
    "duration": 197,
    "start_time": "2024-06-12T19:44:47.077Z"
   },
   {
    "duration": 329,
    "start_time": "2024-06-12T19:44:47.277Z"
   },
   {
    "duration": 408,
    "start_time": "2024-06-12T19:44:47.610Z"
   },
   {
    "duration": 111,
    "start_time": "2024-06-12T19:44:48.021Z"
   },
   {
    "duration": 7,
    "start_time": "2024-06-12T19:44:48.136Z"
   },
   {
    "duration": 347,
    "start_time": "2024-06-12T19:48:15.737Z"
   },
   {
    "duration": 485,
    "start_time": "2024-06-12T19:48:22.244Z"
   },
   {
    "duration": 840,
    "start_time": "2024-06-12T19:48:22.733Z"
   },
   {
    "duration": 27,
    "start_time": "2024-06-12T19:48:23.576Z"
   },
   {
    "duration": 167,
    "start_time": "2024-06-12T19:48:23.607Z"
   },
   {
    "duration": 215,
    "start_time": "2024-06-12T19:48:23.777Z"
   },
   {
    "duration": 346,
    "start_time": "2024-06-12T19:48:23.996Z"
   },
   {
    "duration": 373,
    "start_time": "2024-06-12T19:48:24.700Z"
   },
   {
    "duration": 110,
    "start_time": "2024-06-12T19:48:25.569Z"
   },
   {
    "duration": 7,
    "start_time": "2024-06-12T19:48:27.015Z"
   },
   {
    "duration": 56982,
    "start_time": "2024-06-12T19:48:27.874Z"
   },
   {
    "duration": 480,
    "start_time": "2024-06-12T19:51:06.688Z"
   },
   {
    "duration": 24,
    "start_time": "2024-06-12T19:51:28.193Z"
   },
   {
    "duration": 40,
    "start_time": "2024-06-12T19:52:13.762Z"
   },
   {
    "duration": 59,
    "start_time": "2024-06-12T19:52:40.728Z"
   },
   {
    "duration": 14,
    "start_time": "2024-06-12T19:52:56.149Z"
   },
   {
    "duration": 867,
    "start_time": "2024-06-12T19:57:48.561Z"
   },
   {
    "duration": 807,
    "start_time": "2024-06-12T20:00:21.314Z"
   },
   {
    "duration": 1378,
    "start_time": "2024-06-12T20:00:35.124Z"
   },
   {
    "duration": 782,
    "start_time": "2024-06-12T20:00:36.506Z"
   },
   {
    "duration": 41,
    "start_time": "2024-06-12T20:00:37.292Z"
   },
   {
    "duration": 172,
    "start_time": "2024-06-12T20:00:37.338Z"
   },
   {
    "duration": 204,
    "start_time": "2024-06-12T20:00:37.526Z"
   },
   {
    "duration": 345,
    "start_time": "2024-06-12T20:00:37.733Z"
   },
   {
    "duration": 368,
    "start_time": "2024-06-12T20:00:38.082Z"
   },
   {
    "duration": 112,
    "start_time": "2024-06-12T20:00:38.455Z"
   },
   {
    "duration": 6,
    "start_time": "2024-06-12T20:00:38.570Z"
   },
   {
    "duration": 57846,
    "start_time": "2024-06-12T20:00:38.582Z"
   },
   {
    "duration": 697,
    "start_time": "2024-06-12T20:01:36.432Z"
   },
   {
    "duration": 51,
    "start_time": "2024-06-12T20:01:37.135Z"
   },
   {
    "duration": 46,
    "start_time": "2024-06-12T20:01:37.191Z"
   },
   {
    "duration": 894,
    "start_time": "2024-06-12T20:01:37.241Z"
   },
   {
    "duration": 5,
    "start_time": "2024-06-12T20:06:42.900Z"
   },
   {
    "duration": 343955,
    "start_time": "2024-06-12T20:07:00.906Z"
   },
   {
    "duration": 16325,
    "start_time": "2024-06-12T21:32:59.009Z"
   },
   {
    "duration": 437,
    "start_time": "2024-06-12T21:43:23.576Z"
   },
   {
    "duration": 669,
    "start_time": "2024-06-12T21:44:15.854Z"
   },
   {
    "duration": 27222,
    "start_time": "2024-06-12T21:44:22.920Z"
   },
   {
    "duration": 89587,
    "start_time": "2024-06-12T21:45:02.291Z"
   },
   {
    "duration": 90669,
    "start_time": "2024-06-12T21:48:30.120Z"
   },
   {
    "duration": 95344,
    "start_time": "2024-06-12T21:54:14.140Z"
   },
   {
    "duration": 91010,
    "start_time": "2024-06-12T21:56:15.494Z"
   },
   {
    "duration": 1853419,
    "start_time": "2024-06-12T21:57:58.584Z"
   },
   {
    "duration": 47,
    "start_time": "2024-06-12T23:01:16.056Z"
   },
   {
    "duration": 1357,
    "start_time": "2024-06-12T23:01:22.010Z"
   },
   {
    "duration": 780,
    "start_time": "2024-06-12T23:01:23.371Z"
   },
   {
    "duration": 26,
    "start_time": "2024-06-12T23:01:24.154Z"
   },
   {
    "duration": 162,
    "start_time": "2024-06-12T23:01:24.184Z"
   },
   {
    "duration": 212,
    "start_time": "2024-06-12T23:01:24.349Z"
   },
   {
    "duration": 326,
    "start_time": "2024-06-12T23:01:24.564Z"
   },
   {
    "duration": 370,
    "start_time": "2024-06-12T23:01:24.894Z"
   },
   {
    "duration": 107,
    "start_time": "2024-06-12T23:01:25.266Z"
   },
   {
    "duration": 7,
    "start_time": "2024-06-12T23:01:25.377Z"
   },
   {
    "duration": 56784,
    "start_time": "2024-06-12T23:01:25.390Z"
   },
   {
    "duration": 538,
    "start_time": "2024-06-12T23:02:22.177Z"
   },
   {
    "duration": 23,
    "start_time": "2024-06-12T23:02:22.722Z"
   },
   {
    "duration": 30,
    "start_time": "2024-06-12T23:02:22.748Z"
   },
   {
    "duration": 808,
    "start_time": "2024-06-12T23:02:22.782Z"
   },
   {
    "duration": 5,
    "start_time": "2024-06-12T23:02:23.593Z"
   },
   {
    "duration": 309933,
    "start_time": "2024-06-12T23:02:23.601Z"
   },
   {
    "duration": 16992,
    "start_time": "2024-06-12T23:07:33.537Z"
   },
   {
    "duration": 89128,
    "start_time": "2024-06-12T23:07:50.534Z"
   },
   {
    "duration": 482,
    "start_time": "2024-06-12T23:09:19.666Z"
   },
   {
    "duration": 4,
    "start_time": "2024-06-12T23:10:13.630Z"
   },
   {
    "duration": 5978,
    "start_time": "2024-06-12T23:10:23.264Z"
   },
   {
    "duration": 1853681,
    "start_time": "2024-06-12T23:11:57.306Z"
   },
   {
    "duration": 352,
    "start_time": "2024-06-13T11:30:54.694Z"
   },
   {
    "duration": 1295,
    "start_time": "2024-06-13T11:31:03.634Z"
   },
   {
    "duration": 798,
    "start_time": "2024-06-13T11:31:04.933Z"
   },
   {
    "duration": 26,
    "start_time": "2024-06-13T11:31:05.733Z"
   },
   {
    "duration": 164,
    "start_time": "2024-06-13T11:31:05.762Z"
   },
   {
    "duration": 198,
    "start_time": "2024-06-13T11:31:05.930Z"
   },
   {
    "duration": 315,
    "start_time": "2024-06-13T11:31:06.131Z"
   },
   {
    "duration": 339,
    "start_time": "2024-06-13T11:31:06.448Z"
   },
   {
    "duration": 109,
    "start_time": "2024-06-13T11:31:06.789Z"
   },
   {
    "duration": 7,
    "start_time": "2024-06-13T11:31:06.907Z"
   },
   {
    "duration": 55219,
    "start_time": "2024-06-13T11:31:06.917Z"
   },
   {
    "duration": 473,
    "start_time": "2024-06-13T11:32:02.139Z"
   },
   {
    "duration": 22,
    "start_time": "2024-06-13T11:32:02.615Z"
   },
   {
    "duration": 29,
    "start_time": "2024-06-13T11:32:02.640Z"
   },
   {
    "duration": 753,
    "start_time": "2024-06-13T11:32:02.707Z"
   },
   {
    "duration": 5,
    "start_time": "2024-06-13T11:32:03.462Z"
   },
   {
    "duration": 73813,
    "start_time": "2024-06-13T11:32:03.470Z"
   },
   {
    "duration": 0,
    "start_time": "2024-06-13T11:33:17.286Z"
   },
   {
    "duration": 0,
    "start_time": "2024-06-13T11:33:17.288Z"
   },
   {
    "duration": 0,
    "start_time": "2024-06-13T11:33:17.293Z"
   },
   {
    "duration": 15115,
    "start_time": "2024-06-13T11:33:25.300Z"
   },
   {
    "duration": 85392,
    "start_time": "2024-06-13T11:33:40.419Z"
   },
   {
    "duration": 1795816,
    "start_time": "2024-06-13T11:35:05.814Z"
   },
   {
    "duration": 83998,
    "start_time": "2024-06-13T12:05:01.633Z"
   },
   {
    "duration": 335,
    "start_time": "2024-06-13T12:07:44.572Z"
   },
   {
    "duration": 31,
    "start_time": "2024-06-13T12:08:17.693Z"
   },
   {
    "duration": 1303,
    "start_time": "2024-06-13T12:09:48.435Z"
   },
   {
    "duration": 142,
    "start_time": "2024-06-13T12:09:59.373Z"
   },
   {
    "duration": 5,
    "start_time": "2024-06-13T12:10:14.612Z"
   },
   {
    "duration": 768,
    "start_time": "2024-06-13T12:10:15.071Z"
   },
   {
    "duration": 29,
    "start_time": "2024-06-13T12:10:15.842Z"
   },
   {
    "duration": 141,
    "start_time": "2024-06-13T12:10:15.991Z"
   },
   {
    "duration": 196,
    "start_time": "2024-06-13T12:10:16.838Z"
   },
   {
    "duration": 291,
    "start_time": "2024-06-13T12:10:17.311Z"
   },
   {
    "duration": 340,
    "start_time": "2024-06-13T12:10:17.717Z"
   },
   {
    "duration": 147,
    "start_time": "2024-06-13T12:10:18.061Z"
   },
   {
    "duration": 6,
    "start_time": "2024-06-13T12:10:18.852Z"
   },
   {
    "duration": 55929,
    "start_time": "2024-06-13T12:10:19.911Z"
   },
   {
    "duration": 474,
    "start_time": "2024-06-13T12:11:15.843Z"
   },
   {
    "duration": 22,
    "start_time": "2024-06-13T12:11:16.320Z"
   },
   {
    "duration": 30,
    "start_time": "2024-06-13T12:11:16.345Z"
   },
   {
    "duration": 772,
    "start_time": "2024-06-13T12:11:16.405Z"
   },
   {
    "duration": 15233,
    "start_time": "2024-06-13T12:11:17.179Z"
   },
   {
    "duration": 84683,
    "start_time": "2024-06-13T12:11:32.415Z"
   },
   {
    "duration": 83905,
    "start_time": "2024-06-13T12:12:57.106Z"
   },
   {
    "duration": 229,
    "start_time": "2024-06-13T12:21:42.461Z"
   },
   {
    "duration": 1359,
    "start_time": "2024-06-13T13:15:24.097Z"
   },
   {
    "duration": 746,
    "start_time": "2024-06-13T13:15:25.461Z"
   },
   {
    "duration": 26,
    "start_time": "2024-06-13T13:15:26.211Z"
   },
   {
    "duration": 177,
    "start_time": "2024-06-13T13:15:26.242Z"
   },
   {
    "duration": 222,
    "start_time": "2024-06-13T13:15:26.423Z"
   },
   {
    "duration": 314,
    "start_time": "2024-06-13T13:15:26.648Z"
   },
   {
    "duration": 350,
    "start_time": "2024-06-13T13:15:26.965Z"
   },
   {
    "duration": 342,
    "start_time": "2024-06-13T13:15:27.318Z"
   },
   {
    "duration": 116,
    "start_time": "2024-06-13T13:15:27.663Z"
   },
   {
    "duration": 5,
    "start_time": "2024-06-13T13:15:27.785Z"
   },
   {
    "duration": 58200,
    "start_time": "2024-06-13T13:15:27.793Z"
   },
   {
    "duration": 492,
    "start_time": "2024-06-13T13:16:25.997Z"
   },
   {
    "duration": 29,
    "start_time": "2024-06-13T13:16:26.492Z"
   },
   {
    "duration": 29,
    "start_time": "2024-06-13T13:16:26.524Z"
   },
   {
    "duration": 797,
    "start_time": "2024-06-13T13:16:26.556Z"
   },
   {
    "duration": 17602,
    "start_time": "2024-06-13T13:16:27.356Z"
   },
   {
    "duration": 95533,
    "start_time": "2024-06-13T13:16:45.007Z"
   },
   {
    "duration": 1794280,
    "start_time": "2024-06-13T13:18:20.543Z"
   },
   {
    "duration": 217982,
    "start_time": "2024-06-13T13:48:14.827Z"
   },
   {
    "duration": 1293,
    "start_time": "2024-06-15T11:41:52.153Z"
   },
   {
    "duration": 961,
    "start_time": "2024-06-15T11:41:53.450Z"
   },
   {
    "duration": 25,
    "start_time": "2024-06-15T11:41:54.414Z"
   },
   {
    "duration": 194,
    "start_time": "2024-06-15T11:41:54.444Z"
   },
   {
    "duration": 203,
    "start_time": "2024-06-15T11:41:54.642Z"
   },
   {
    "duration": 318,
    "start_time": "2024-06-15T11:41:54.848Z"
   },
   {
    "duration": 387,
    "start_time": "2024-06-15T11:41:55.172Z"
   },
   {
    "duration": 309,
    "start_time": "2024-06-15T11:41:55.562Z"
   },
   {
    "duration": 138,
    "start_time": "2024-06-15T11:41:55.874Z"
   },
   {
    "duration": 7,
    "start_time": "2024-06-15T11:41:56.018Z"
   },
   {
    "duration": 56827,
    "start_time": "2024-06-15T11:41:56.029Z"
   },
   {
    "duration": 497,
    "start_time": "2024-06-15T11:42:52.859Z"
   },
   {
    "duration": 25,
    "start_time": "2024-06-15T11:42:53.359Z"
   },
   {
    "duration": 46,
    "start_time": "2024-06-15T11:42:53.386Z"
   },
   {
    "duration": 1041,
    "start_time": "2024-06-15T11:42:53.436Z"
   },
   {
    "duration": 15836,
    "start_time": "2024-06-15T11:42:54.480Z"
   },
   {
    "duration": 1030,
    "start_time": "2024-06-15T11:43:10.319Z"
   },
   {
    "duration": 0,
    "start_time": "2024-06-15T11:43:11.352Z"
   },
   {
    "duration": 0,
    "start_time": "2024-06-15T11:43:11.354Z"
   },
   {
    "duration": 69536,
    "start_time": "2024-06-15T11:46:13.131Z"
   },
   {
    "duration": 42,
    "start_time": "2024-06-15T11:49:35.879Z"
   },
   {
    "duration": 1370821,
    "start_time": "2024-06-15T11:49:56.552Z"
   },
   {
    "duration": 378855,
    "start_time": "2024-06-15T12:12:47.377Z"
   },
   {
    "duration": 193,
    "start_time": "2024-06-15T12:19:06.369Z"
   },
   {
    "duration": 4079,
    "start_time": "2024-06-15T12:19:14.853Z"
   },
   {
    "duration": 108577,
    "start_time": "2024-06-15T12:21:06.745Z"
   },
   {
    "duration": 382,
    "start_time": "2024-06-15T12:22:55.326Z"
   },
   {
    "duration": 1373,
    "start_time": "2024-06-15T12:24:40.654Z"
   },
   {
    "duration": 751,
    "start_time": "2024-06-15T12:24:42.040Z"
   },
   {
    "duration": 31,
    "start_time": "2024-06-15T12:24:42.794Z"
   },
   {
    "duration": 202,
    "start_time": "2024-06-15T12:24:42.828Z"
   },
   {
    "duration": 365,
    "start_time": "2024-06-15T12:24:43.034Z"
   },
   {
    "duration": 430,
    "start_time": "2024-06-15T12:24:43.401Z"
   },
   {
    "duration": 475,
    "start_time": "2024-06-15T12:24:43.834Z"
   },
   {
    "duration": 426,
    "start_time": "2024-06-15T12:24:44.312Z"
   },
   {
    "duration": 160,
    "start_time": "2024-06-15T12:24:44.743Z"
   },
   {
    "duration": 7,
    "start_time": "2024-06-15T12:24:44.906Z"
   },
   {
    "duration": 40,
    "start_time": "2024-06-15T12:24:44.917Z"
   },
   {
    "duration": 763,
    "start_time": "2024-06-15T12:24:44.960Z"
   },
   {
    "duration": 29,
    "start_time": "2024-06-15T12:24:45.726Z"
   },
   {
    "duration": 48,
    "start_time": "2024-06-15T12:24:45.760Z"
   },
   {
    "duration": 1647,
    "start_time": "2024-06-15T12:24:45.813Z"
   },
   {
    "duration": 18261,
    "start_time": "2024-06-15T12:24:47.462Z"
   },
   {
    "duration": 101860,
    "start_time": "2024-06-15T12:25:05.726Z"
   },
   {
    "duration": 2080066,
    "start_time": "2024-06-15T12:26:47.588Z"
   },
   {
    "duration": 159545,
    "start_time": "2024-06-15T13:01:27.658Z"
   },
   {
    "duration": 684,
    "start_time": "2024-06-15T13:04:07.210Z"
   },
   {
    "duration": 0,
    "start_time": "2024-06-15T13:04:07.914Z"
   },
   {
    "duration": 0,
    "start_time": "2024-06-15T13:04:07.916Z"
   },
   {
    "duration": 0,
    "start_time": "2024-06-15T13:04:07.918Z"
   },
   {
    "duration": 0,
    "start_time": "2024-06-15T13:04:07.920Z"
   },
   {
    "duration": 117,
    "start_time": "2024-06-15T13:06:14.815Z"
   },
   {
    "duration": 1864,
    "start_time": "2024-06-15T13:06:56.885Z"
   },
   {
    "duration": 824,
    "start_time": "2024-06-15T13:06:58.754Z"
   },
   {
    "duration": 43,
    "start_time": "2024-06-15T13:06:59.581Z"
   },
   {
    "duration": 194,
    "start_time": "2024-06-15T13:06:59.628Z"
   },
   {
    "duration": 348,
    "start_time": "2024-06-15T13:06:59.829Z"
   },
   {
    "duration": 435,
    "start_time": "2024-06-15T13:07:00.180Z"
   },
   {
    "duration": 515,
    "start_time": "2024-06-15T13:07:00.618Z"
   },
   {
    "duration": 414,
    "start_time": "2024-06-15T13:07:01.136Z"
   },
   {
    "duration": 158,
    "start_time": "2024-06-15T13:07:01.553Z"
   },
   {
    "duration": 8,
    "start_time": "2024-06-15T13:07:01.714Z"
   },
   {
    "duration": 43,
    "start_time": "2024-06-15T13:07:01.725Z"
   },
   {
    "duration": 772,
    "start_time": "2024-06-15T13:07:01.801Z"
   },
   {
    "duration": 37,
    "start_time": "2024-06-15T13:07:02.577Z"
   },
   {
    "duration": 30,
    "start_time": "2024-06-15T13:07:02.621Z"
   },
   {
    "duration": 1570,
    "start_time": "2024-06-15T13:07:02.655Z"
   },
   {
    "duration": 19982,
    "start_time": "2024-06-15T13:07:04.228Z"
   },
   {
    "duration": 98848,
    "start_time": "2024-06-15T13:07:24.214Z"
   },
   {
    "duration": 1981837,
    "start_time": "2024-06-15T13:09:03.065Z"
   },
   {
    "duration": 86116,
    "start_time": "2024-06-15T13:42:04.904Z"
   },
   {
    "duration": 178,
    "start_time": "2024-06-15T13:43:31.023Z"
   },
   {
    "duration": 6080,
    "start_time": "2024-06-15T13:43:31.204Z"
   },
   {
    "duration": 149663,
    "start_time": "2024-06-15T13:43:37.288Z"
   },
   {
    "duration": 346,
    "start_time": "2024-06-15T13:47:05.340Z"
   },
   {
    "duration": 1668,
    "start_time": "2024-06-15T13:47:15.438Z"
   },
   {
    "duration": 796,
    "start_time": "2024-06-15T13:47:17.110Z"
   },
   {
    "duration": 26,
    "start_time": "2024-06-15T13:47:17.910Z"
   },
   {
    "duration": 160,
    "start_time": "2024-06-15T13:47:20.014Z"
   },
   {
    "duration": 324,
    "start_time": "2024-06-15T13:47:22.054Z"
   },
   {
    "duration": 510,
    "start_time": "2024-06-15T13:47:25.403Z"
   },
   {
    "duration": 545,
    "start_time": "2024-06-15T13:47:27.436Z"
   },
   {
    "duration": 445,
    "start_time": "2024-06-15T13:47:28.158Z"
   },
   {
    "duration": 139,
    "start_time": "2024-06-15T13:47:30.053Z"
   },
   {
    "duration": 6,
    "start_time": "2024-06-15T13:47:31.815Z"
   },
   {
    "duration": 46,
    "start_time": "2024-06-15T13:47:33.335Z"
   },
   {
    "duration": 715,
    "start_time": "2024-06-15T13:47:38.282Z"
   },
   {
    "duration": 26,
    "start_time": "2024-06-15T13:47:39.241Z"
   },
   {
    "duration": 28,
    "start_time": "2024-06-15T13:47:40.142Z"
   },
   {
    "duration": 1560,
    "start_time": "2024-06-15T13:47:44.693Z"
   },
   {
    "duration": 94161,
    "start_time": "2024-06-15T13:47:54.354Z"
   },
   {
    "duration": 4129,
    "start_time": "2024-06-15T13:49:28.519Z"
   },
   {
    "duration": 3980,
    "start_time": "2024-06-15T13:50:36.734Z"
   }
  ],
  "kernelspec": {
   "display_name": "Python 3 (ipykernel)",
   "language": "python",
   "name": "python3"
  },
  "language_info": {
   "codemirror_mode": {
    "name": "ipython",
    "version": 3
   },
   "file_extension": ".py",
   "mimetype": "text/x-python",
   "name": "python",
   "nbconvert_exporter": "python",
   "pygments_lexer": "ipython3",
   "version": "3.11.5"
  },
  "toc": {
   "base_numbering": 1,
   "nav_menu": {},
   "number_sections": true,
   "sideBar": true,
   "skip_h1_title": true,
   "title_cell": "Table of Contents",
   "title_sidebar": "Contents",
   "toc_cell": false,
   "toc_position": {},
   "toc_section_display": true,
   "toc_window_display": false
  }
 },
 "nbformat": 4,
 "nbformat_minor": 2
}
